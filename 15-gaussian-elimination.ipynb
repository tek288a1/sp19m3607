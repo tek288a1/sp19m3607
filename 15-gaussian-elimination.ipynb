{
 "cells": [
  {
   "cell_type": "markdown",
   "metadata": {
    "slideshow": {
     "slide_type": "slide"
    }
   },
   "source": [
    "# Gaussian Elimination"
   ]
  },
  {
   "cell_type": "code",
   "execution_count": null,
   "metadata": {},
   "outputs": [],
   "source": [
    "clear, format short, format compact"
   ]
  },
  {
   "cell_type": "markdown",
   "metadata": {
    "slideshow": {
     "slide_type": "slide"
    }
   },
   "source": [
    "Solve $A \\mathbf{x} = \\mathbf{b}$ where\n",
    "\\begin{equation*}\n",
    "    A = \n",
    "    \\begin{bmatrix}\n",
    "        2 & 2 & 1 \\\\ -4 & 6 & 1 \\\\ 5 & -5 & 3\n",
    "    \\end{bmatrix}\n",
    "    \\quad\\text{and}\\quad\n",
    "    \\mathbf{b} = \n",
    "    \\begin{bmatrix}\n",
    "        6 \\\\ -8 \\\\ 4\n",
    "    \\end{bmatrix}\n",
    "\\end{equation*}"
   ]
  },
  {
   "cell_type": "code",
   "execution_count": null,
   "metadata": {
    "slideshow": {
     "slide_type": "-"
    }
   },
   "outputs": [],
   "source": [
    "A = [2 2 1;\n",
    "    -4 6 1;\n",
    "    5 -5 3]\n",
    "b = [6 -8 4]'\n",
    "A_orig = A;"
   ]
  },
  {
   "cell_type": "code",
   "execution_count": null,
   "metadata": {
    "slideshow": {
     "slide_type": "slide"
    }
   },
   "outputs": [],
   "source": [
    "%% Step 1: row operations\n",
    "Ab = [A b]; \n",
    "% column 1\n",
    "Ab(2,:) = Ab(2,:) - Ab(2,1)/Ab(1,1)*Ab(1,:);\n",
    "Ab(3,:) = Ab(3,:) - Ab(3,1)/Ab(1,1)*Ab(1,:);\n",
    "% column 2\n",
    "Ab(3,:) = Ab(3,:) - Ab(3,2)/Ab(2,2)*Ab(2,:);\n",
    "U = Ab(:,1:end-1)\n",
    "beta = Ab(:,end)\n",
    "\n",
    "%% Step 2: solving U*x = beta by backward substitution\n",
    "x = zeros(3,1);\n",
    "x(3) = beta(3)/U(3,3);\n",
    "x(2) = (beta(2) - U(2,3)*x(3))/U(2,2);\n",
    "x(1) = (beta(1) - U(1,2)*x(2) - U(1,3)*x(3))/U(1,1);\n",
    "\n",
    "%% Check using norm:\n",
    "residual = A*x - b;\n",
    "norm(residual)"
   ]
  },
  {
   "cell_type": "markdown",
   "metadata": {
    "slideshow": {
     "slide_type": "slide"
    }
   },
   "source": [
    "**Exercise.** \n",
    "Modify the previous script by identifying some parameters \n",
    "and using vectorization or loop structure wherever is appropriate. \n",
    "Then write it into a function m-file, `GEnp.m` which begins with\n",
    "```\n",
    "function x = GEnp(A, b)\n",
    "...\n",
    "```"
   ]
  },
  {
   "cell_type": "code",
   "execution_count": null,
   "metadata": {
    "slideshow": {
     "slide_type": "slide"
    }
   },
   "outputs": [],
   "source": [
    "%% parameters and preallocation\n",
    "n = size(A,1);\n",
    "x = zeros(n,1);\n",
    "\n",
    "%% Step 1: row operations\n",
    "Ab = [A b];   \n",
    "for j = 1:n-1\n",
    "    for i = j+1:n\n",
    "        Ab(i,:) = Ab(i,:) - Ab(i,j)/Ab(j,j)*Ab(j,:);\n",
    "    end\n",
    "end\n",
    "U = Ab(:,1:end-1)\n",
    "beta = Ab(:,end)\n",
    "\n",
    "%% Step 2: solving U*x = beta by backward substitution\n",
    "x(n) = beta(n)/U(n,n);\n",
    "for j = n-1:-1:1\n",
    "    x(j) = (beta(j) - U(j,j+1:n)*x(j+1:n))/U(j,j);\n",
    "end\n",
    "\n",
    "%% Check using norm:\n",
    "residual = A*x - b;\n",
    "norm(residual)"
   ]
  },
  {
   "cell_type": "markdown",
   "metadata": {
    "slideshow": {
     "slide_type": "slide"
    }
   },
   "source": [
    "Now let's turn this script into a function.\n",
    "\n",
    "(**Do not copy the first line ``%%file GEnp.m``.**)"
   ]
  },
  {
   "cell_type": "code",
   "execution_count": null,
   "metadata": {
    "slideshow": {
     "slide_type": "slide"
    }
   },
   "outputs": [],
   "source": [
    "%%file GEnp.m\n",
    "\n",
    "function x = GEnp(A, b)\n",
    "\n",
    "    n = size(A,1);\n",
    "    x = zeros(n,1);\n",
    "\n",
    "    %% Step 1: row operations\n",
    "    Ab = [A b];   \n",
    "    for j = 1:n-1\n",
    "        for i = j+1:n\n",
    "            Ab(i,:) = Ab(i,:) - Ab(i,j)/Ab(j,j)*Ab(j,:);\n",
    "        end\n",
    "    end\n",
    "    U = Ab(:,1:end-1);\n",
    "    beta = Ab(:,end);\n",
    "\n",
    "    %% Step 2: solving U*x = beta by backward substitution\n",
    "    x(n) = beta(n)/U(n,n);\n",
    "    for j = n-1:-1:1\n",
    "        x(j) = (beta(j) - U(j,j+1:n)*x(j+1:n))/U(j,j);\n",
    "    end\n",
    "\n",
    "end"
   ]
  },
  {
   "cell_type": "code",
   "execution_count": null,
   "metadata": {},
   "outputs": [],
   "source": [
    "x  = GEnp(A, b);\n",
    "norm(A*x - b)"
   ]
  }
 ],
 "metadata": {
  "celltoolbar": "Slideshow",
  "kernelspec": {
   "display_name": "Matlab",
   "language": "matlab",
   "name": "matlab"
  },
  "language_info": {
   "codemirror_mode": "octave",
   "file_extension": ".m",
   "help_links": [
    {
     "text": "MetaKernel Magics",
     "url": "https://github.com/calysto/metakernel/blob/master/metakernel/magics/README.md"
    }
   ],
   "mimetype": "text/x-octave",
   "name": "matlab",
   "version": "0.16.1"
  }
 },
 "nbformat": 4,
 "nbformat_minor": 2
}
