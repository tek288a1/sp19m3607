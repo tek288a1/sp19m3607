{
 "cells": [
  {
   "cell_type": "markdown",
   "metadata": {},
   "source": [
    "# Lab 2\n",
    "\n",
    "01-18-2019 (F)\n",
    "\n",
    "\n",
    "\n",
    "For this lab, create a folder titled `lab2` at a location of your choice other than within `Documents/MATLAB`."
   ]
  },
  {
   "cell_type": "code",
   "execution_count": 1,
   "metadata": {},
   "outputs": [],
   "source": [
    "format compact"
   ]
  },
  {
   "cell_type": "markdown",
   "metadata": {},
   "source": [
    "## Determining Grades\n",
    "\n",
    "\n",
    "The data file `grades.dat` contains the total grades of students in a calculus class. Your job is to manipulate the data and determine the letter grade cutoffs. For this reason, any information on students are not included in this data file. \n",
    "\n",
    "Begin by downloading the file `grades.dat` from our Carmen file repository and saving it in the directory `lab2` created earlier. \n",
    "\n",
    "Now, in MATLAB, navigate to the directory so that your current folder is `lab2`. \n",
    "You can then load the data by:"
   ]
  },
  {
   "cell_type": "code",
   "execution_count": 2,
   "metadata": {},
   "outputs": [],
   "source": [
    "grades = load('grades.dat');"
   ]
  },
  {
   "cell_type": "markdown",
   "metadata": {},
   "source": [
    "You can view the data by typing\n",
    "```octave\n",
    ">> grades\n",
    "```\n",
    "without semicolon at the end.\n",
    "\n",
    "You may also read the actual contents of the file by\n",
    "```octave\n",
    ">> type 'grades.dat'\n",
    "```"
   ]
  },
  {
   "cell_type": "code",
   "execution_count": 3,
   "metadata": {},
   "outputs": [
    {
     "name": "stdout",
     "output_type": "stream",
     "text": [
      "\n",
      "%% data file: calc 1 grades\n",
      "% This line will not be loaded.\n",
      "\n",
      "34.01\n",
      "83.13\n",
      "10.63\n",
      "38.98\n",
      "71.88\n",
      "68.58\n",
      "18.06\n",
      "67.67\n",
      "70.59\n",
      "69.88\n",
      "63.99\n",
      "30.04\n",
      "31.89\n",
      "83.43\n",
      "87.10\n",
      "62.64\n",
      "79.98\n",
      "63.43\n",
      "53.47\n",
      "84.45\n",
      "53.93\n",
      "86.13\n",
      "99.69\n",
      "78.94\n",
      "12.57\n",
      "77.74\n",
      "71.67\n",
      "64.74\n",
      "69.88\n",
      "58.21\n",
      "76.54\n",
      "80.36\n",
      "80.30\n",
      "43.85\n",
      "69.48\n",
      "92.87\n",
      "88.11\n",
      "75.25\n",
      "84.99\n",
      "89.01\n",
      "87.15\n",
      "88.19\n",
      "89.45\n",
      "28.78\n",
      "84.73\n",
      "75.39\n",
      "82.76\n",
      "61.88\n",
      "92.33\n",
      "84.98\n",
      "68.21\n",
      "77.63\n",
      "80.26\n",
      "88.79\n",
      "35.68\n",
      "52.80\n",
      "89.01\n",
      "87.08\n",
      "77.69\n",
      "73.52\n",
      "89.41\n",
      "89.26\n",
      "88.04\n",
      "76.30\n",
      "90.58\n",
      "58.55\n",
      "89.01\n",
      "59.93\n",
      "57.56\n",
      "62.11\n",
      "69.71\n",
      "79.99\n",
      "97.30\n",
      "90.26\n",
      "83.58\n",
      "87.98\n",
      "81.29\n",
      "93.78\n",
      "94.36\n",
      "45.58\n",
      "73.71\n",
      "86.62\n",
      "71.37\n",
      "94.37\n",
      "89.60\n",
      "88.49\n",
      "94.88\n",
      "73.31\n",
      "88.07\n",
      "75.86\n",
      "59.68\n",
      "85.30\n",
      "60.18\n",
      "73.94\n",
      "87.03\n",
      "65.77\n",
      "89.38\n",
      "77.74\n",
      "59.46\n",
      "77.01\n",
      "81.01\n",
      "76.41\n",
      "86.90\n",
      "73.74\n",
      "69.15\n",
      "74.67\n",
      "28.55\n",
      "95.40\n",
      "76.38\n",
      "58.49\n",
      "65.93\n",
      "85.14\n",
      "74.45\n",
      "73.10\n",
      "69.82\n",
      "84.76\n",
      "81.69\n",
      "82.82\n",
      "94.78\n",
      "86.60\n",
      "90.56\n",
      "76.35\n",
      "45.35\n",
      "87.36\n",
      "92.82\n",
      "75.14\n",
      "82.84\n",
      "63.89\n",
      "78.40\n",
      "95.48\n",
      "70.91\n",
      "76.33\n",
      "98.74\n",
      "88.24\n",
      "88.32\n",
      "94.20\n",
      "93.42\n",
      "67.02\n",
      "82.63\n",
      "78.83\n",
      "74.74\n",
      "26.03\n",
      "84.97\n",
      "75.17\n",
      "61.76\n",
      "19.75\n",
      "93.13\n",
      "63.38\n",
      "81.63\n",
      "24.24\n",
      "81.67\n",
      "64.50\n",
      "38.33\n",
      "41.06\n",
      "80.23\n",
      "86.42\n",
      "92.69\n",
      "96.63\n",
      "77.35\n",
      "85.94\n",
      "55.54\n",
      "95.73\n",
      "62.52\n",
      "72.81\n",
      "87.57\n",
      "61.67\n",
      "73.22\n",
      "68.92\n",
      "92.75\n"
     ]
    }
   ],
   "source": [
    "type 'grades.dat'"
   ]
  },
  {
   "cell_type": "markdown",
   "metadata": {},
   "source": [
    "**Question 1.** How many students are there? Store this information as `nrStudents`."
   ]
  },
  {
   "cell_type": "code",
   "execution_count": 4,
   "metadata": {},
   "outputs": [
    {
     "name": "stdout",
     "output_type": "stream",
     "text": [
      "nrStudents =\n",
      "   169\n"
     ]
    }
   ],
   "source": [
    "nrStudents = length(grades)"
   ]
  },
  {
   "cell_type": "markdown",
   "metadata": {},
   "source": [
    "**Question 2.** Find the higest and the lowest scores. "
   ]
  },
  {
   "cell_type": "code",
   "execution_count": 5,
   "metadata": {},
   "outputs": [
    {
     "name": "stdout",
     "output_type": "stream",
     "text": [
      "max_scr =\n",
      "   99.6900\n",
      "min_scr =\n",
      "   10.6300\n"
     ]
    }
   ],
   "source": [
    "max_scr = max(grades)\n",
    "min_scr = min(grades)"
   ]
  },
  {
   "cell_type": "markdown",
   "metadata": {},
   "source": [
    "Now, we want to see if there are any students with the same scores. One way to figure this out is to sort them in order and inspect by eyes. "
   ]
  },
  {
   "cell_type": "markdown",
   "metadata": {},
   "source": [
    "**Question 3.** Sort the grades from highest to lowest. Store the sorted grades as `grades_srt`."
   ]
  },
  {
   "cell_type": "code",
   "execution_count": 6,
   "metadata": {},
   "outputs": [
    {
     "name": "stdout",
     "output_type": "stream",
     "text": [
      "grades_srt =\n",
      "   99.6900\n",
      "   98.7400\n",
      "   97.3000\n",
      "   96.6300\n",
      "   95.7300\n",
      "   95.4800\n",
      "   95.4000\n",
      "   94.8800\n",
      "   94.7800\n",
      "   94.3700\n",
      "   94.3600\n",
      "   94.2000\n",
      "   93.7800\n",
      "   93.4200\n",
      "   93.1300\n",
      "   92.8700\n",
      "   92.8200\n",
      "   92.7500\n",
      "   92.6900\n",
      "   92.3300\n",
      "   90.5800\n",
      "   90.5600\n",
      "   90.2600\n",
      "   89.6000\n",
      "   89.4500\n",
      "   89.4100\n",
      "   89.3800\n",
      "   89.2600\n",
      "   89.0100\n",
      "   89.0100\n",
      "   89.0100\n",
      "   88.7900\n",
      "   88.4900\n",
      "   88.3200\n",
      "   88.2400\n",
      "   88.1900\n",
      "   88.1100\n",
      "   88.0700\n",
      "   88.0400\n",
      "   87.9800\n",
      "   87.5700\n",
      "   87.3600\n",
      "   87.1500\n",
      "   87.1000\n",
      "   87.0800\n",
      "   87.0300\n",
      "   86.9000\n",
      "   86.6200\n",
      "   86.6000\n",
      "   86.4200\n",
      "   86.1300\n",
      "   85.9400\n",
      "   85.3000\n",
      "   85.1400\n",
      "   84.9900\n",
      "   84.9800\n",
      "   84.9700\n",
      "   84.7600\n",
      "   84.7300\n",
      "   84.4500\n",
      "   83.5800\n",
      "   83.4300\n",
      "   83.1300\n",
      "   82.8400\n",
      "   82.8200\n",
      "   82.7600\n",
      "   82.6300\n",
      "   81.6900\n",
      "   81.6700\n",
      "   81.6300\n",
      "   81.2900\n",
      "   81.0100\n",
      "   80.3600\n",
      "   80.3000\n",
      "   80.2600\n",
      "   80.2300\n",
      "   79.9900\n",
      "   79.9800\n",
      "   78.9400\n",
      "   78.8300\n",
      "   78.4000\n",
      "   77.7400\n",
      "   77.7400\n",
      "   77.6900\n",
      "   77.6300\n",
      "   77.3500\n",
      "   77.0100\n",
      "   76.5400\n",
      "   76.4100\n",
      "   76.3800\n",
      "   76.3500\n",
      "   76.3300\n",
      "   76.3000\n",
      "   75.8600\n",
      "   75.3900\n",
      "   75.2500\n",
      "   75.1700\n",
      "   75.1400\n",
      "   74.7400\n",
      "   74.6700\n",
      "   74.4500\n",
      "   73.9400\n",
      "   73.7400\n",
      "   73.7100\n",
      "   73.5200\n",
      "   73.3100\n",
      "   73.2200\n",
      "   73.1000\n",
      "   72.8100\n",
      "   71.8800\n",
      "   71.6700\n",
      "   71.3700\n",
      "   70.9100\n",
      "   70.5900\n",
      "   69.8800\n",
      "   69.8800\n",
      "   69.8200\n",
      "   69.7100\n",
      "   69.4800\n",
      "   69.1500\n",
      "   68.9200\n",
      "   68.5800\n",
      "   68.2100\n",
      "   67.6700\n",
      "   67.0200\n",
      "   65.9300\n",
      "   65.7700\n",
      "   64.7400\n",
      "   64.5000\n",
      "   63.9900\n",
      "   63.8900\n",
      "   63.4300\n",
      "   63.3800\n",
      "   62.6400\n",
      "   62.5200\n",
      "   62.1100\n",
      "   61.8800\n",
      "   61.7600\n",
      "   61.6700\n",
      "   60.1800\n",
      "   59.9300\n",
      "   59.6800\n",
      "   59.4600\n",
      "   58.5500\n",
      "   58.4900\n",
      "   58.2100\n",
      "   57.5600\n",
      "   55.5400\n",
      "   53.9300\n",
      "   53.4700\n",
      "   52.8000\n",
      "   45.5800\n",
      "   45.3500\n",
      "   43.8500\n",
      "   41.0600\n",
      "   38.9800\n",
      "   38.3300\n",
      "   35.6800\n",
      "   34.0100\n",
      "   31.8900\n",
      "   30.0400\n",
      "   28.7800\n",
      "   28.5500\n",
      "   26.0300\n",
      "   24.2400\n",
      "   19.7500\n",
      "   18.0600\n",
      "   12.5700\n",
      "   10.6300\n"
     ]
    }
   ],
   "source": [
    "grades_srt = sort(grades, 'descend')"
   ]
  },
  {
   "cell_type": "markdown",
   "metadata": {},
   "source": [
    "Sorting is nice and all that, but it is still hard to spot identical scores. Do you think you can have MATLAB do the tedious job for you?\n",
    "\n",
    "**Question 4.** Determine if there are any repeated scores. (*Hint.* Think of using the `diff` and `find` functions.)"
   ]
  },
  {
   "cell_type": "code",
   "execution_count": 7,
   "metadata": {},
   "outputs": [
    {
     "name": "stdout",
     "output_type": "stream",
     "text": [
      "ans =\n",
      "    29\n",
      "    30\n",
      "    82\n",
      "   115\n"
     ]
    }
   ],
   "source": [
    "diff(grades_srt);\n",
    "find(ans == 0)"
   ]
  },
  {
   "cell_type": "markdown",
   "metadata": {},
   "source": [
    "Now let's get to the real business. You are given two options in determining grade cutoffs:\n",
    "\n",
    "### Option 1 (absolute grading scale)\n",
    "\n",
    "Students are evaluated by the following marking scheme:\n",
    "  \n",
    "   | Letter | Percentage |\n",
    "   | --- | --- |\n",
    "   | A      | [90, 100]  |\n",
    "   | B      | [80, 90)   |\n",
    "   | C      | [70, 80)   |\n",
    "   | D      | [60, 70)   |\n",
    "   | E      | [0,60)     |\n",
    "   \n",
    "(The (+) and (-) variations such as B- or C+ are ignored for simplicity.)\n",
    "\n",
    "**Question 5.** Determine the number of students in each of the letter grade groups. Store these numbers as a vector, e.g. `nrAbs` so that `nrAbs(1)` is the number of students assigned A, `nrAbs(2)` the number of students with B, and so on. Make sure these numbers add up to the total number of students `nrStudents`."
   ]
  },
  {
   "cell_type": "code",
   "execution_count": 8,
   "metadata": {},
   "outputs": [],
   "source": [
    "cutoffAbs = [100, 90, 80, 70, 60, 0];\n",
    "nrAbs(1) = length(find(grades <= cutoffAbs(1) & grades >= cutoffAbs(2)));\n",
    "nrAbs(2) = length(find(grades < cutoffAbs(2) & grades >= cutoffAbs(3)));\n",
    "nrAbs(3) = length(find(grades < cutoffAbs(3) & grades >= cutoffAbs(4)));\n",
    "nrAbs(4) = length(find(grades < cutoffAbs(4) & grades >= cutoffAbs(5)));\n",
    "nrAbs(5) = length(find(grades < cutoffAbs(5) & grades >= cutoffAbs(6)));"
   ]
  },
  {
   "cell_type": "code",
   "execution_count": 9,
   "metadata": {},
   "outputs": [
    {
     "name": "stdout",
     "output_type": "stream",
     "text": [
      " A    B    C    D    E  tot\n",
      "23   53   38   26   29  169\n"
     ]
    }
   ],
   "source": [
    "disp(' A    B    C    D    E  tot')\n",
    "disp(num2str([nrAbs, sum(nrAbs)]))"
   ]
  },
  {
   "cell_type": "markdown",
   "metadata": {},
   "source": [
    "### Option 2 (relative grading scale)\n",
    "\n",
    "Let $\\mu$ be the average and $\\sigma$ be the standard deviation of the scores. You adjust the grading scheme based on the following criteria:\n",
    "\n",
    "\n",
    "| Letter | Interval    |\n",
    "|---|---|\n",
    "| A      | [$\\mu$+$\\sigma$, 100]  |\n",
    "| B      | [$\\mu$, $\\mu$+$\\sigma$)    |\n",
    "| C      | [$\\mu$-$\\sigma$, $\\mu$)    |\n",
    "| D      | [$\\mu$-2$\\sigma$, $\\mu$-$\\sigma$) |\n",
    "| E      | [0,$\\mu$-2$\\sigma$)    |\n",
    "\n",
    "**Question 6.** Determine the number of students in each of the letter grade groups using this grading scheme. Again, store the results as a single vector, e.g. `nrRel`. Make sure these numbers add up to `nrStudents`.\n"
   ]
  },
  {
   "cell_type": "code",
   "execution_count": 10,
   "metadata": {},
   "outputs": [],
   "source": [
    "mu = mean(grades);\n",
    "sig = std(grades);\n",
    "cutoffRel = [100, mu+sig, mu, mu-sig, mu-2*sig, 0];\n",
    "\n",
    "nrRel(1) = length(find(grades <= cutoffRel(1) & grades >= cutoffRel(2)));\n",
    "nrRel(2) = length(find(grades < cutoffRel(2) & grades >= cutoffRel(3)));\n",
    "nrRel(3) = length(find(grades < cutoffRel(3) & grades >= cutoffRel(4)));\n",
    "nrRel(4) = length(find(grades < cutoffRel(4) & grades >= cutoffRel(5)));\n",
    "nrRel(5) = length(find(grades < cutoffRel(5) & grades >= cutoffRel(6)));"
   ]
  },
  {
   "cell_type": "code",
   "execution_count": 11,
   "metadata": {},
   "outputs": [
    {
     "name": "stdout",
     "output_type": "stream",
     "text": [
      " A    B    C    D    E  tot\n",
      "19   84   45    9   12  169\n"
     ]
    }
   ],
   "source": [
    "disp(' A    B    C    D    E  tot')\n",
    "disp(num2str([nrRel, sum(nrRel)]))"
   ]
  },
  {
   "cell_type": "code",
   "execution_count": null,
   "metadata": {},
   "outputs": [],
   "source": []
  },
  {
   "cell_type": "code",
   "execution_count": null,
   "metadata": {},
   "outputs": [],
   "source": []
  },
  {
   "cell_type": "code",
   "execution_count": null,
   "metadata": {},
   "outputs": [],
   "source": []
  }
 ],
 "metadata": {
  "kernelspec": {
   "display_name": "Matlab",
   "language": "matlab",
   "name": "matlab"
  },
  "language_info": {
   "codemirror_mode": "octave",
   "file_extension": ".m",
   "help_links": [
    {
     "text": "MetaKernel Magics",
     "url": "https://github.com/calysto/metakernel/blob/master/metakernel/magics/README.md"
    }
   ],
   "mimetype": "text/x-octave",
   "name": "matlab",
   "version": "0.16.1"
  }
 },
 "nbformat": 4,
 "nbformat_minor": 2
}
