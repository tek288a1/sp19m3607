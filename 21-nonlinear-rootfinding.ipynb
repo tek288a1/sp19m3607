{
 "cells": [
  {
   "cell_type": "markdown",
   "metadata": {},
   "source": [
    "# Newton's Method"
   ]
  },
  {
   "cell_type": "markdown",
   "metadata": {},
   "source": [
    "## Task 1: Calculating $\\sqrt{2}$\n",
    "\n",
    "Let $f(x) = x^2 - 2$. The positive root of $f$ is $\\sqrt{2}$. \n",
    "\n",
    "In order to calculate it using Newton's scheme, \n",
    "we recall that the iteration formula for the method is \n",
    "given by\n",
    "$$\n",
    "    x_{n+1} = x_n - \\frac{f(x_n)}{f'(x_n)}\n",
    "$$\n",
    "for $n \\in \\mathbb{N}$. You will provide an initial iterate $x_0$ in \n",
    "the program. \n",
    "\n",
    "In the following program:\n",
    " * Take `sqrt(2)` as the true root.\n",
    " * Stop the iteration when $|f(x_n)| < 10^{-10}$."
   ]
  },
  {
   "cell_type": "code",
   "execution_count": 1,
   "metadata": {},
   "outputs": [
    {
     "name": "stdout",
     "output_type": "stream",
     "text": [
      "      n :          x_n       f(x_n)    abs error \n",
      "------------------------------------------------------------ \n",
      "      1 :        1.417     0.006944     0.002453 \n",
      "      2 :        1.414    6.007e-06    2.124e-06 \n",
      "      3 :        1.414    4.511e-12    1.595e-12 \n",
      "\n",
      " The iteration is terminated. \n",
      " The absolute error : 1.5947e-12 \n"
     ]
    }
   ],
   "source": [
    "%% newton's method to calculate sqrt(2)\n",
    "f = @(x) x.^2 - 2;\n",
    "tol = 1e-10;\n",
    "x = 1.5;   % initial iterate\n",
    "fx = f(x);\n",
    "\n",
    "fprintf(' %6s : %12s %12s %12s \\n', ...\n",
    "    'n', 'x_n', 'f(x_n)', 'abs error')\n",
    "fprintf('%60s \\n', repmat('-', 1, 60))\n",
    "nr_iter = 0;\n",
    "while true\n",
    "    nr_iter = nr_iter + 1;\n",
    "    xnew = 1/2*(x + 2/x);\n",
    "    fxnew = f(xnew);\n",
    "    fprintf(' %6d : %12.4g %12.4g %12.4g \\n',...\n",
    "        nr_iter, xnew, fxnew, abs(sqrt(2)-xnew));\n",
    "    if abs(fxnew) < tol\n",
    "        x_zero = xnew;\n",
    "        fprintf('\\n');\n",
    "        fprintf(' %s \\n', 'The iteration is terminated.');\n",
    "        fprintf(' %s : %8.4e \\n', 'The absolute error', abs(sqrt(2)-x_zero));\n",
    "        return\n",
    "    end\n",
    "    x = xnew;\n",
    "    fx = fxnew;\n",
    "end"
   ]
  },
  {
   "cell_type": "markdown",
   "metadata": {},
   "source": [
    "## Task 2. Cubic Polynomial\n",
    "\n",
    "Let $f(x) = x^3 + 2x - 1$. Write a program that calculates its root. Terminate the iterations when $x_n - x_{n-1}$ becomes sufficiently small. \n"
   ]
  },
  {
   "cell_type": "code",
   "execution_count": 2,
   "metadata": {},
   "outputs": [
    {
     "name": "stdout",
     "output_type": "stream",
     "text": [
      "      n :                      x_n           f(x_n)    x_{n}-x_{n-1} \n",
      " ---------------------------------------------------------------------- \n",
      "      1 :       0.4545454545454545       3.0053e-03      -4.5455e-02 \n",
      "      2 :       0.4533983366790938       1.7929e-06      -1.1471e-03 \n",
      "      3 :       0.4533976515166478       6.3860e-13      -6.8516e-07 \n",
      "      4 :       0.4533976515164038       0.0000e+00      -2.4403e-13 \n",
      "\n",
      " The iteration is terminated. \n"
     ]
    }
   ],
   "source": [
    "f = @(x) x.^3 + 2*x - 1;\n",
    "fprime = @(x) 3*x.^2 + 2;\n",
    "x = 0.5;\n",
    "fx = f(x);\n",
    "nr_iter = 0;\n",
    "sh = 1;\n",
    "tol = 1e-10;\n",
    "\n",
    "xiter(nr_iter+sh) = x;\n",
    "fxiter(nr_iter+sh) = fx;\n",
    "fprintf(' %6s : %24s %16s %16s \\n',...\n",
    "        'n', 'x_n', 'f(x_n)', 'x_{n}-x_{n-1}') \n",
    "fprintf(' %70s \\n', repmat('-', 1, 70))\n",
    "while true\n",
    "    nr_iter = nr_iter + 1;\n",
    "    xnew = x - fx/fprime(x);\n",
    "    fxnew = f(xnew);\n",
    "    xiter(nr_iter+sh) = xnew;\n",
    "    fxiter(nr_iter+sh) = fxnew;\n",
    "    fprintf(' %6d : %24.16g %16.4e %16.4e \\n',...\n",
    "        nr_iter, xnew, fxnew, xiter(nr_iter+sh)-xiter(nr_iter-1+sh));\n",
    "    if abs(xiter(nr_iter+sh)-xiter(nr_iter-1+sh)) < tol\n",
    "        x_zero = xnew;\n",
    "        fprintf('\\n');\n",
    "        fprintf(' %s \\n', 'The iteration is terminated.');\n",
    "        break;\n",
    "    end\n",
    "    x = xnew;\n",
    "    fx = fxnew;\n",
    "end"
   ]
  },
  {
   "cell_type": "markdown",
   "metadata": {},
   "source": [
    "The function $f$ has one real root\n",
    "$$\n",
    "    \\frac{ (108+12\\sqrt{177})^{2/3} - 24 }{ 6 ( 108 + 12 \\sqrt{177} )^{1/3} }\n",
    "    \\approx 0.453397651516403767644746538996,\n",
    "$$\n",
    "and two complex roots in conjugate pair\n",
    "$$\n",
    "    \\frac{1}{12} \\,{\\frac {- \\left( 108+12\\,\\sqrt {3}\\sqrt {59} \\right) ^{2/3}+24}{\n",
    "\\sqrt [3]{108+12\\,\\sqrt {3}\\sqrt {59}}}}\n",
    "    \\pm  i {\\frac {\\left(  \\left( \n",
    "108+12\\,\\sqrt {3}\\sqrt {59} \\right) ^{2/3}\\sqrt {3}+24\\,\\sqrt {3}\n",
    " \\right) }{12 \\sqrt [3]{108+12\\,\\sqrt {3}\\sqrt {59}}}}\n",
    "     \\approx -0.226698825758201883822373269499 \\pm 1.46771150871022427020177828753 i.\n",
    "$$"
   ]
  },
  {
   "cell_type": "markdown",
   "metadata": {},
   "source": [
    "### Exercise\n",
    "By using different initial iterates $x_0$, possibly a complex number, see if you can find the other roots. "
   ]
  }
 ],
 "metadata": {
  "kernelspec": {
   "display_name": "Matlab",
   "language": "matlab",
   "name": "matlab"
  },
  "language_info": {
   "codemirror_mode": "octave",
   "file_extension": ".m",
   "help_links": [
    {
     "text": "MetaKernel Magics",
     "url": "https://github.com/calysto/metakernel/blob/master/metakernel/magics/README.md"
    }
   ],
   "mimetype": "text/x-octave",
   "name": "matlab",
   "version": "0.16.1"
  }
 },
 "nbformat": 4,
 "nbformat_minor": 2
}
