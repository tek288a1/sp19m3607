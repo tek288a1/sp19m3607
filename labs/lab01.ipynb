{
 "cells": [
  {
   "cell_type": "markdown",
   "metadata": {
    "slideshow": {
     "slide_type": "slide"
    }
   },
   "source": [
    "# Lab 1\n",
    "\n",
    "01-11-2019 (F)"
   ]
  },
  {
   "cell_type": "code",
   "execution_count": null,
   "metadata": {
    "slideshow": {
     "slide_type": "-"
    }
   },
   "outputs": [],
   "source": [
    "format compact"
   ]
  },
  {
   "cell_type": "markdown",
   "metadata": {
    "slideshow": {
     "slide_type": "slide"
    }
   },
   "source": [
    "## Common Mistake 1: variable names\n",
    "\n",
    "In naming a variable, be careful not to use the names that are already defined in MATLAB. For instance, the following code will cause an error since `factorial` is already defined.\n",
    "\n",
    "```\n",
    "factorial = 7;\n",
    "n = 10;\n",
    "err_abs = sqrt(2*pi*n) * (n/exp(1))^n - factorial(n);\n",
    "```"
   ]
  },
  {
   "cell_type": "markdown",
   "metadata": {
    "slideshow": {
     "slide_type": "slide"
    }
   },
   "source": [
    "## Common Mistake 2: moving around folders\n",
    "\n",
    "When you run MATLAB, you are working in a particular folder. In particular, if you want to run a script file titled `my_awesome_script.m` saved inside `Document/Math3607/my_amazing_work`, MATLAB needs to be there. There are several ways of navigating through folders.\n",
    "\n",
    " - Using Current Folder window\n",
    " - Using the directory navigation bar\n",
    " - Using `cd` command\n",
    " "
   ]
  },
  {
   "cell_type": "markdown",
   "metadata": {
    "slideshow": {
     "slide_type": "subslide"
    }
   },
   "source": [
    "MATLAB reads files stores in some specific directories no matter where your current working directory is. To see them:"
   ]
  },
  {
   "cell_type": "code",
   "execution_count": null,
   "metadata": {
    "scrolled": true,
    "slideshow": {
     "slide_type": "-"
    }
   },
   "outputs": [],
   "source": [
    "path()"
   ]
  },
  {
   "cell_type": "markdown",
   "metadata": {
    "slideshow": {
     "slide_type": "subslide"
    }
   },
   "source": [
    "Most of them are located in directories that normal users do not have a write-permission. But note that the very first result in within a user's directory. "
   ]
  },
  {
   "cell_type": "code",
   "execution_count": null,
   "metadata": {
    "slideshow": {
     "slide_type": "-"
    }
   },
   "outputs": [],
   "source": [
    "userpath()"
   ]
  },
  {
   "cell_type": "markdown",
   "metadata": {
    "slideshow": {
     "slide_type": "-"
    }
   },
   "source": [
    "This is where you can store general-purpose script or function m-files. "
   ]
  },
  {
   "cell_type": "markdown",
   "metadata": {
    "slideshow": {
     "slide_type": "slide"
    }
   },
   "source": [
    "## 2.1-5\n",
    "\n",
    "Use `format long g` for this problem.\n",
    "\n",
    " a) What is $27.9^{\\circ}$ in radians, and what is 13 radians in degrees? <br>\n",
    " f) Find the length of the base of the right triangle whose height is 144 and whose hypothenuse is 145. "
   ]
  },
  {
   "cell_type": "code",
   "execution_count": null,
   "metadata": {
    "slideshow": {
     "slide_type": "-"
    }
   },
   "outputs": [],
   "source": [
    "format long g"
   ]
  },
  {
   "cell_type": "markdown",
   "metadata": {
    "slideshow": {
     "slide_type": "subslide"
    }
   },
   "source": [
    "### Solution\n",
    "\n",
    "**(a)** Since $180^{\\circ} = \\pi \\text{(rad)}$, we can convert an angle in one unit to the other by using the following conversion factors:"
   ]
  },
  {
   "cell_type": "code",
   "execution_count": null,
   "metadata": {
    "slideshow": {
     "slide_type": "-"
    }
   },
   "outputs": [],
   "source": [
    "deg2rad = 180/pi;\n",
    "rad2deg = pi/180;"
   ]
  },
  {
   "cell_type": "markdown",
   "metadata": {
    "slideshow": {
     "slide_type": "subslide"
    }
   },
   "source": [
    "In particular, "
   ]
  },
  {
   "cell_type": "code",
   "execution_count": null,
   "metadata": {
    "slideshow": {
     "slide_type": "-"
    }
   },
   "outputs": [],
   "source": [
    "input_deg = 27.9;\n",
    "input_rad = 13;\n",
    "convert_deg = input_deg*deg2rad\n",
    "convert_rad = input_rad*rad2deg"
   ]
  },
  {
   "cell_type": "markdown",
   "metadata": {
    "slideshow": {
     "slide_type": "subslide"
    }
   },
   "source": [
    "In case you wanted to fomat it nicely, try something like:"
   ]
  },
  {
   "cell_type": "code",
   "execution_count": null,
   "metadata": {
    "slideshow": {
     "slide_type": "-"
    }
   },
   "outputs": [],
   "source": [
    "disp([num2str(input_deg), ' degrees is ',...\n",
    "      num2str(convert_deg), ' radians.'])\n",
    "disp([num2str(input_rad), ' radians is ',...\n",
    "      num2str(convert_rad), ' degrees.'])"
   ]
  },
  {
   "cell_type": "markdown",
   "metadata": {
    "slideshow": {
     "slide_type": "subslide"
    }
   },
   "source": [
    "**(f)** Let \n",
    "\n",
    " - a = height\n",
    " - b = base\n",
    " - c = hypothenuse\n",
    "\n",
    "Then by the pythagorean theorem, we find that $b = \\sqrt{c^2 - a^2}$:"
   ]
  },
  {
   "cell_type": "code",
   "execution_count": null,
   "metadata": {
    "slideshow": {
     "slide_type": "-"
    }
   },
   "outputs": [],
   "source": [
    "hgt = 144;\n",
    "hyp = 145;\n",
    "base = sqrt(hyp^2 - hgt^2);\n",
    "disp(['Length of the base = ', num2str(base, 16)])    "
   ]
  },
  {
   "cell_type": "markdown",
   "metadata": {
    "slideshow": {
     "slide_type": "slide"
    }
   },
   "source": [
    "## 2.2-3\n",
    "\n",
    "a) Write a script which asks for a distance in meters. It should then output the distance in feet, yards, miles, nautical miles, royal cubits, pedes, AU, l.y., and parsecs. <br>\n",
    "b) Then run your code with a distance of 10,000 meters."
   ]
  },
  {
   "cell_type": "markdown",
   "metadata": {
    "slideshow": {
     "slide_type": "subslide"
    }
   },
   "source": [
    "### Solution.\n",
    "**(a, b)** Below is my script that converts a given distance in meters to various units. Since MATLAB Publish does not work well with `input` function, I will explicitly provide an input value. The interactive statement including `input` is commented out. "
   ]
  },
  {
   "cell_type": "code",
   "execution_count": null,
   "metadata": {
    "slideshow": {
     "slide_type": "subslide"
    }
   },
   "outputs": [],
   "source": [
    "% meter = input('Give a distance in meters: ');\n",
    "meter = 10000;\n",
    "\n",
    "% conversion factors\n",
    "m2ft = 3.28084;                     % feet\n",
    "m2yd = 1.09361;                     % yards\n",
    "m2mi = 0.000621371;                 % miles\n",
    "m2nm = 0.000539957;                 % nautical miles\n",
    "m2rc = 0.0002838985;                % royal cubit\n",
    "m2pd = 0.296;                       % pedes\n",
    "m2AU = 6.68459e-12;                 % astronomical units\n",
    "m2ly = 1.057e-16;                   % light years\n",
    "m2ps = 3.24078e-17;                 % parsecs"
   ]
  },
  {
   "cell_type": "markdown",
   "metadata": {
    "slideshow": {
     "slide_type": "subslide"
    }
   },
   "source": [
    "Then I convert the given distance."
   ]
  },
  {
   "cell_type": "code",
   "execution_count": null,
   "metadata": {
    "scrolled": false,
    "slideshow": {
     "slide_type": "-"
    }
   },
   "outputs": [],
   "source": [
    "% converted outputs\n",
    "feet = meter*m2ft\n",
    "yards = meter*m2yd\n",
    "miles = meter*m2mi\n",
    "naut_miles = meter*m2nm\n",
    "roy_cub = meter*m2rc\n",
    "pedes = meter*m2pd\n",
    "AU = meter*m2AU\n",
    "lgt_yrs = meter*m2ly\n",
    "parsecs = meter*m2ps"
   ]
  }
 ],
 "metadata": {
  "celltoolbar": "Slideshow",
  "kernelspec": {
   "display_name": "Matlab",
   "language": "matlab",
   "name": "matlab"
  },
  "language_info": {
   "codemirror_mode": "octave",
   "file_extension": ".m",
   "help_links": [
    {
     "text": "MetaKernel Magics",
     "url": "https://github.com/calysto/metakernel/blob/master/metakernel/magics/README.md"
    }
   ],
   "mimetype": "text/x-octave",
   "name": "matlab",
   "version": "0.16.1"
  }
 },
 "nbformat": 4,
 "nbformat_minor": 2
}
