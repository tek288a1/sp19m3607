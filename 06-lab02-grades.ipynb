{
 "cells": [
  {
   "cell_type": "markdown",
   "metadata": {},
   "source": [
    "# Lab 2\n",
    "\n",
    "01-18-2019 (F)\n",
    "\n",
    "\n",
    "\n",
    "For this lab, create a folder titled `lab2` at a location of your choice other than within `Documents/MATLAB`."
   ]
  },
  {
   "cell_type": "code",
   "execution_count": null,
   "metadata": {},
   "outputs": [],
   "source": [
    "format compact"
   ]
  },
  {
   "cell_type": "markdown",
   "metadata": {},
   "source": [
    "## Determining Grades\n",
    "\n",
    "\n",
    "The data file `grades.dat` contains the total grades of students in a calculus class. Your job is to manipulate the data and determine the letter grade cutoffs. For this reason, any information on students are not included in this data file. \n",
    "\n",
    "Begin by downloading the file `grades.dat` from our Carmen file repository and saving it in the directory `lab2` created earlier. \n",
    "\n",
    "Now, in MATLAB, navigate to the directory so that your current folder is `lab2`. \n",
    "You can then load the data by:"
   ]
  },
  {
   "cell_type": "code",
   "execution_count": null,
   "metadata": {},
   "outputs": [],
   "source": [
    "grades = load('grades.dat');"
   ]
  },
  {
   "cell_type": "markdown",
   "metadata": {},
   "source": [
    "You can view the data by typing\n",
    "```octave\n",
    ">> grades\n",
    "```\n",
    "without semicolon at the end.\n",
    "\n",
    "You may also read the actual contents of the file by\n",
    "```octave\n",
    ">> type 'grades.dat'\n",
    "```"
   ]
  },
  {
   "cell_type": "code",
   "execution_count": null,
   "metadata": {},
   "outputs": [],
   "source": [
    "type 'grades.dat'"
   ]
  },
  {
   "cell_type": "markdown",
   "metadata": {},
   "source": [
    "**Question 1.** How many students are there? Store this information as `nrStudents`."
   ]
  },
  {
   "cell_type": "code",
   "execution_count": null,
   "metadata": {},
   "outputs": [],
   "source": []
  },
  {
   "cell_type": "markdown",
   "metadata": {},
   "source": [
    "**Question 2.** Find the higest and the lowest scores. "
   ]
  },
  {
   "cell_type": "code",
   "execution_count": null,
   "metadata": {},
   "outputs": [],
   "source": []
  },
  {
   "cell_type": "markdown",
   "metadata": {},
   "source": [
    "Now, we want to see if there are any students with the same scores. One way to figure this out is to sort them in order and inspect by eyes. "
   ]
  },
  {
   "cell_type": "markdown",
   "metadata": {},
   "source": [
    "**Question 3.** Sort the grades from highest to lowest. Store the sorted grades as `grades_srt`."
   ]
  },
  {
   "cell_type": "code",
   "execution_count": null,
   "metadata": {},
   "outputs": [],
   "source": []
  },
  {
   "cell_type": "markdown",
   "metadata": {},
   "source": [
    "Sorting is nice and all that, but it is still hard to spot identical scores. Do you think you can have MATLAB do the tedious job for you?\n",
    "\n",
    "**Question 4.** Determine if there are any repeated scores. (*Hint.* Think of using the `diff` and `find` functions.)"
   ]
  },
  {
   "cell_type": "code",
   "execution_count": null,
   "metadata": {},
   "outputs": [],
   "source": []
  },
  {
   "cell_type": "markdown",
   "metadata": {},
   "source": [
    "Now let's get to the real business. You are given two options in determining grade cutoffs:\n",
    "\n",
    "### Option 1 (absolute grading scale)\n",
    "\n",
    "Students are evaluated by the following marking scheme:\n",
    "  \n",
    "   | Letter | Percentage |\n",
    "   | --- | --- |\n",
    "   | A      | [90, 100]  |\n",
    "   | B      | [80, 90)   |\n",
    "   | C      | [70, 80)   |\n",
    "   | D      | [60, 70)   |\n",
    "   | E      | [0,60)     |\n",
    "   \n",
    "(The (+) and (-) variations such as B- or C+ are ignored for simplicity.)\n",
    "\n",
    "**Question 5.** Determine the number of students in each of the letter grade groups. Store these numbers as a vector, e.g. `nrAbs` so that `nrAbs(1)` is the number of students assigned A, `nrAbs(2)` the number of students with B, and so on. Make sure these numbers add up to the total number of students `nrStudents`."
   ]
  },
  {
   "cell_type": "code",
   "execution_count": null,
   "metadata": {},
   "outputs": [],
   "source": []
  },
  {
   "cell_type": "markdown",
   "metadata": {},
   "source": [
    "### Option 2 (relative grading scale)\n",
    "\n",
    "Let $\\mu$ be the average and $\\sigma$ be the standard deviation of the scores. You adjust the grading scheme based on the following criteria:\n",
    "\n",
    "\n",
    "| Letter | Interval    |\n",
    "|---|---|\n",
    "| A      | [$\\mu$+$\\sigma$, 100]  |\n",
    "| B      | [$\\mu$, $\\mu$+$\\sigma$)    |\n",
    "| C      | [$\\mu$-$\\sigma$, $\\mu$)    |\n",
    "| D      | [$\\mu$-2$\\sigma$, $\\mu$-$\\sigma$) |\n",
    "| E      | [0,$\\mu$-2$\\sigma$)    |\n",
    "\n",
    "**Question 6.** Determine the number of students in each of the letter grade groups using this grading scheme. Again, store the results as a single vector, e.g. `nrRel`. Make sure these numbers add up to `nrStudents`.\n"
   ]
  },
  {
   "cell_type": "code",
   "execution_count": null,
   "metadata": {},
   "outputs": [],
   "source": []
  }
 ],
 "metadata": {
  "kernelspec": {
   "display_name": "Matlab",
   "language": "matlab",
   "name": "matlab"
  },
  "language_info": {
   "codemirror_mode": "octave",
   "file_extension": ".m",
   "help_links": [
    {
     "text": "MetaKernel Magics",
     "url": "https://github.com/calysto/metakernel/blob/master/metakernel/magics/README.md"
    }
   ],
   "mimetype": "text/x-octave",
   "name": "matlab",
   "version": "0.16.1"
  }
 },
 "nbformat": 4,
 "nbformat_minor": 2
}
