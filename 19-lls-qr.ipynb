{
 "cells": [
  {
   "cell_type": "markdown",
   "metadata": {},
   "source": [
    "# Linear Least Square Approximation and QR Factorization\n"
   ]
  },
  {
   "cell_type": "markdown",
   "metadata": {},
   "source": [
    "## I. Evaluation of $e^x$  \n",
    "\n",
    "### 1. Using Taylor Polynomial\n",
    "\n",
    "The Taylor series expansion of $e^x$ is\n",
    "\\begin{equation}\n",
    "    e^x = \\sum_{j=0}^{\\infty} \\frac{x^j}{j!} \\,.\n",
    "\\end{equation}\n",
    "\n",
    "Numerically, we use a truncated Taylor polynomial \n",
    "for computation, e.g.\n",
    "\\begin{equation}\n",
    "    e^x \\approx s_N(x) = \\sum_{j=0}^{N} \\frac{x^j}{j!} \\,.\n",
    "\\end{equation}"
   ]
  },
  {
   "cell_type": "code",
   "execution_count": 1,
   "metadata": {},
   "outputs": [
    {
     "name": "stdout",
     "output_type": "stream",
     "text": [
      "Created file '/home/tae/Dropbox/Sp19-Math3607/lectures/myexp.m'.\n"
     ]
    }
   ],
   "source": [
    "%%file myexp.m\n",
    "function y = myexp(x, n)   % For demonstration only; DO NOT USE IT.\n",
    "  y = 1;\n",
    "  numer = 1;\n",
    "  denom = 1;\n",
    "  for i = 1:n\n",
    "      numer = numer.*x;\n",
    "      denom = denom*i;\n",
    "      y = y + numer./denom;\n",
    "  end\n",
    "end"
   ]
  },
  {
   "cell_type": "markdown",
   "metadata": {},
   "source": [
    "### 2. Improvement by LLS Method\n",
    "\n",
    "With number of terms fixed, we can improve our approximation\n",
    "by adjusting the coefficients of the Taylor polynomial.\n",
    "\n",
    "**Task.**\n",
    "Suppose we approximate $e^x$ using the polynomial\n",
    "$$\n",
    "    p_n(x) = 1 + c_1 x + c_2 x^2 + \\cdots + c_n x^n \\,,\n",
    "$$\n",
    "and we want the error $e^x - p_n(x)$ at the abscissas\n",
    "$$\n",
    "    0 < x_1 < x_2 < \\cdots < x_m \\le 1, \\quad m > n\n",
    "$$\n",
    "as small as possible in the sense of 2-norm."
   ]
  },
  {
   "cell_type": "markdown",
   "metadata": {},
   "source": [
    "We learned that it is achieved by solving\n",
    "$$\n",
    "\\begin{bmatrix}\n",
    "    y_1 - 1 \\\\ y_2 - 1 \\\\ \\vdots \\\\ y_m - 1\n",
    "\\end{bmatrix}\n",
    "\\text{\"=\"}\n",
    "\\begin{bmatrix}\n",
    "    x_1 & x_1^2 & \\cdots & x_1^n \\\\\n",
    "    x_2 & x_2^2 & \\cdots & x_2^n \\\\\n",
    "    \\vdots & \\vdots & \\ddots & \\vdots \\\\\n",
    "    x_m & x_m^2 & \\cdots & x_m^n\n",
    "\\end{bmatrix}\n",
    "\\begin{bmatrix}\n",
    "    c_1 \\\\ c_2 \\\\ \\vdots \\\\ c_n\n",
    "\\end{bmatrix} \\,,\n",
    "$$\n",
    "or\n",
    "$$\n",
    "    \\mathbf{y} - \\mathtt{ones(m,1)} \\, \\text{\"=\"} \\, X \\mathbf{c} \\,.\n",
    "$$"
   ]
  },
  {
   "cell_type": "markdown",
   "metadata": {},
   "source": [
    "In MatLab, this can be solved by\n",
    "```octave\n",
    "    c = X \\ (y - 1);\n",
    "```\n",
    "   "
   ]
  },
  {
   "cell_type": "code",
   "execution_count": 2,
   "metadata": {},
   "outputs": [
    {
     "name": "stdout",
     "output_type": "stream",
     "text": [
      "Created file '/home/tae/Dropbox/Sp19-Math3607/lectures/exp_lls.m'.\n"
     ]
    }
   ],
   "source": [
    "%%file exp_lls.m\n",
    "function y = exp_lls(x, m, n)\n",
    "% This function evaluates exp(x) on [0, 1]\n",
    "% by modifying Taylor coefficients using LLS method.\n",
    "% input: m = number of uniform data points\n",
    "%            0 < x_1 < x_2 < \\dots < x_m = 1\n",
    "%        n = degree of truncation\n",
    "%        x = points at which exp is to be approximated\n",
    "% output: y = approximated exp(x)\n",
    "  xdp = linspace(0, 1, m+1)';\n",
    "  xdp(1) = [];\n",
    "  ydp = exp(xdp);\n",
    "  X = xdp.^(1:n);\n",
    "  c = X\\(ydp-1);   % this solves X^T X c = ydp - 1\n",
    "  y = polyval(flip([1; c]), x);\n",
    "end"
   ]
  },
  {
   "cell_type": "markdown",
   "metadata": {},
   "source": [
    "**Task.** Use $m = 30$ and $n = 6$ to evaluate $e^x$ on $[0, 1]$ (at multiple points) using `myexp` and `exp_lls` and estimate the error between the two. "
   ]
  },
  {
   "cell_type": "code",
   "execution_count": 3,
   "metadata": {
    "scrolled": true
   },
   "outputs": [
    {
     "name": "stdout",
     "output_type": "stream",
     "text": [
      " err_taylor      err_lls      e_t/e_l\n",
      "0.000226273  5.70645e-08      3965.22\n"
     ]
    }
   ],
   "source": [
    "m = 30; n = 6;\n",
    "x = linspace(0, 1, 100);\n",
    "y_exact = exp(x);\n",
    "y_tay = myexp(x, n);\n",
    "y_lls = exp_lls(x, m, n);\n",
    "err_tay = norm(y_exact-y_tay, 'inf');\n",
    "err_lls = norm(y_exact-y_lls, 'inf');\n",
    "disp(' err_taylor      err_lls      e_t/e_l')\n",
    "disp(num2str([err_tay, err_lls, err_tay/err_lls], 6))"
   ]
  },
  {
   "cell_type": "markdown",
   "metadata": {},
   "source": [
    "Let's plot."
   ]
  },
  {
   "cell_type": "code",
   "execution_count": 4,
   "metadata": {},
   "outputs": [
    {
     "data": {
      "image/png": "[encoded data removed]",
      "text/plain": [
       "<IPython.core.display.Image object>"
      ]
     },
     "metadata": {},
     "output_type": "display_data"
    }
   ],
   "source": [
    "plot(x, [y_exact; y_tay; y_lls]), grid on"
   ]
  },
  {
   "cell_type": "markdown",
   "metadata": {},
   "source": [
    "This is not very useful since the errors are very tiny compared to the scaling of the axes. So let's plot errors."
   ]
  },
  {
   "cell_type": "code",
   "execution_count": 5,
   "metadata": {},
   "outputs": [
    {
     "data": {
      "image/png": "[encoded data removed]",
      "text/plain": [
       "<IPython.core.display.Image object>"
      ]
     },
     "metadata": {},
     "output_type": "display_data"
    }
   ],
   "source": [
    "subplot(121)\n",
    "plot(x, y_exact-y_tay), grid on\n",
    "subplot(122)\n",
    "plot(x, y_exact-y_lls), grid on"
   ]
  },
  {
   "cell_type": "markdown",
   "metadata": {},
   "source": [
    "## II. QR Factorization\n",
    "\n",
    "Consider the subspace \n",
    "$S = {\\rm Sp} \\{ \\mathbf{v}_1, \\mathbf{v}_2, \\mathbf{v}_3 \\} \\subset \\mathbb{R}^4$\n",
    "where\n",
    "$$\n",
    "    \\mathbf{v}_1 = \\begin{bmatrix} 1 \\\\ 1 \\\\ 1 \\\\ 1 \\end{bmatrix},\\;\n",
    "    \\mathbf{v}_2 = \\begin{bmatrix} 1 \\\\ 0 \\\\ 0 \\\\ 1 \\end{bmatrix},\\;\n",
    "    \\mathbf{v}_3 = \\begin{bmatrix} 4 \\\\ 2 \\\\ -2 \\\\ 1 \\end{bmatrix}.\n",
    "$$\n",
    "\n",
    "By the *Gram-Schmidt procedure*, we can obtain an orthonormal basis for $S$:\n",
    "\\begin{align}\n",
    "    \\mathbf{q}_1 & = \\frac{\\mathbf{v}_1}{\\lVert \\mathbf{v}_1 \\rVert_2} \\\\\n",
    "    \\mathbf{w}_2 & = \\mathbf{v}_2 - (\\mathbf{v}_2^T) \\mathbf{q}_1 \\quad\\text{and}\\quad \\mathbf{q}_2 = \\frac{\\mathbf{w}_2}{\\lVert \\mathbf{w}_2 \\rVert_2} \\\\\n",
    "    \\mathbf{w}_3 & = \\mathbf{v}_3 - (\\mathbf{v}_3^T \\mathbf{q}_1) \\mathbf{q}_1 -(\\mathbf{v}_3^T \\mathbf{q}_2 ) \\mathbf{q}_2 \\quad\\text{and}\\quad \\mathbf{q}_3 = \\frac{\\mathbf{w}_3}{\\lVert \\mathbf{w}_3 \\rVert_2}\n",
    "\\end{align}"
   ]
  },
  {
   "cell_type": "markdown",
   "metadata": {},
   "source": [
    "The result is\n",
    "$$\n",
    "    \\mathbf{q}_1 = \\frac{1}{2} \\begin{bmatrix} 1 \\\\ 1 \\\\ 1 \\\\ 1 \\end{bmatrix}, \\;\n",
    "    \\mathbf{q}_2 = \\frac{1}{2} \\begin{bmatrix} 1 \\\\ -1 \\\\ -1 \\\\ 1 \\end{bmatrix}, \\;\n",
    "    \\mathbf{q}_3 = \\frac{1}{5\\sqrt{2}} \\begin{bmatrix} 3 \\\\ 4 \\\\ -4 \\\\ -3 \\end{bmatrix}.\n",
    "$$"
   ]
  },
  {
   "cell_type": "markdown",
   "metadata": {},
   "source": [
    "Moreover, the equations above used to obtain these vectors can be written as the matrix equation\n",
    "\n",
    "$$\n",
    "    \\begin{bmatrix} \\mathbf{v}_1 & \\mathbf{v}_2 & \\mathbf{v}_3 \\end{bmatrix}\n",
    "    = \\begin{bmatrix} \\mathbf{q}_1 & \\mathbf{q}_2 & \\mathbf{q}_3 \\end{bmatrix}\n",
    "    \\begin{bmatrix}\n",
    "        \\lVert \\mathbf{v}_1 \\rVert_2 & \\mathbf{v}_2^T \\mathbf{q}_1 & \\mathbf{v}_3^T \\mathbf{q}_1 \\\\\n",
    "        0 & \\lVert \\mathbf{w}_1 \\rVert_2 & \\mathbf{v}_3^T \\mathbf{q}_2 \\\\\n",
    "        0 & 0 & \\lVert \\mathbf{w}_3 \\rVert_2\n",
    "    \\end{bmatrix} \\,,\n",
    "$$\n",
    "or simply $A = QR$.\n",
    "    "
   ]
  },
  {
   "cell_type": "markdown",
   "metadata": {},
   "source": [
    "In MatLab, we can easily calculate $Q$ and $R$ by"
   ]
  },
  {
   "cell_type": "code",
   "execution_count": 6,
   "metadata": {},
   "outputs": [
    {
     "name": "stdout",
     "output_type": "stream",
     "text": [
      "\n",
      "Q =\n",
      "\n",
      "   -0.5000    0.5000    0.4243\n",
      "   -0.5000   -0.5000    0.5657\n",
      "   -0.5000   -0.5000   -0.5657\n",
      "   -0.5000    0.5000   -0.4243\n",
      "\n",
      "\n",
      "R =\n",
      "\n",
      "   -2.0000   -1.0000   -2.5000\n",
      "         0    1.0000    2.5000\n",
      "         0         0    3.5355\n",
      "\n"
     ]
    }
   ],
   "source": [
    "A = [1 1 1 1; 1 0 0 1; 4 2 -2 1]';\n",
    "[Q, R] = qr(A, 0)"
   ]
  },
  {
   "cell_type": "markdown",
   "metadata": {},
   "source": [
    "The second input '0' indicates that MatLab is doing so-called the *thin QR factorization*. Without it, we obtain the *full/thick QR factorization*."
   ]
  },
  {
   "cell_type": "code",
   "execution_count": 7,
   "metadata": {},
   "outputs": [
    {
     "name": "stdout",
     "output_type": "stream",
     "text": [
      "\n",
      "Q =\n",
      "\n",
      "   -0.5000    0.5000    0.4243   -0.5657\n",
      "   -0.5000   -0.5000    0.5657    0.4243\n",
      "   -0.5000   -0.5000   -0.5657   -0.4243\n",
      "   -0.5000    0.5000   -0.4243    0.5657\n",
      "\n",
      "\n",
      "R =\n",
      "\n",
      "   -2.0000   -1.0000   -2.5000\n",
      "         0    1.0000    2.5000\n",
      "         0         0    3.5355\n",
      "         0         0         0\n",
      "\n"
     ]
    }
   ],
   "source": [
    "[Q, R] = qr(A)"
   ]
  },
  {
   "cell_type": "markdown",
   "metadata": {},
   "source": [
    "Remember that the rank of the original matrix $V$ equals that of $R$. For example:"
   ]
  },
  {
   "cell_type": "code",
   "execution_count": 8,
   "metadata": {
    "scrolled": true
   },
   "outputs": [
    {
     "name": "stdout",
     "output_type": "stream",
     "text": [
      "\n",
      "Qt =\n",
      "\n",
      "   -0.5000   -0.5000    0.6163\n",
      "   -0.5000    0.8333    0.2054\n",
      "   -0.5000   -0.1667   -0.7575\n",
      "   -0.5000   -0.1667   -0.0642\n",
      "\n",
      "\n",
      "Rt =\n",
      "\n",
      "   -2.0000   -6.0000   -6.5000\n",
      "         0         0   -0.1667\n",
      "         0         0    4.3269\n",
      "\n"
     ]
    }
   ],
   "source": [
    "T = [1 1 1 1; 3 3 3 3; 6 4 0 3]';\n",
    "[Qt, Rt] = qr(T, 0)"
   ]
  },
  {
   "cell_type": "markdown",
   "metadata": {},
   "source": [
    "## III. Generating $QR$ via Householder Transformations"
   ]
  },
  {
   "cell_type": "markdown",
   "metadata": {},
   "source": [
    "*Explanation on whiteboard in class*"
   ]
  },
  {
   "cell_type": "code",
   "execution_count": 9,
   "metadata": {},
   "outputs": [
    {
     "name": "stdout",
     "output_type": "stream",
     "text": [
      "Created file '/home/tae/Dropbox/Sp19-Math3607/lectures/myqr.m'.\n"
     ]
    }
   ],
   "source": [
    "%%file myqr.m\n",
    "function [Q, R] = myqr(A)\n",
    "    [m,n] = size(A);\n",
    "    A0 = A;\n",
    "    Q = eye(m);\n",
    "    for j = 1:min(m,n)\n",
    "        Aj = A(j:m, j:n);\n",
    "        z = Aj(:,1);\n",
    "        v = z + sign0(z(1))*norm(z)*eye(length(z), 1);\n",
    "        Hj = eye(length(v)) - 2/(v'*v) * v*v';\n",
    "        Aj = Hj*Aj;\n",
    "        H = eye(m);\n",
    "        H(j:m,j:m) = Hj;\n",
    "        Q = Q*H;\n",
    "        A(j:m,j:n) = Aj;\n",
    "    end\n",
    "    R = A;\n",
    "end \n",
    "\n",
    "% local function\n",
    "function y = sign0(x)\n",
    "    y = ones(size(x));\n",
    "    y(x < 0) = -1;\n",
    "end"
   ]
  },
  {
   "cell_type": "markdown",
   "metadata": {},
   "source": [
    "Let's check if it agrees with MatLab."
   ]
  },
  {
   "cell_type": "code",
   "execution_count": 10,
   "metadata": {},
   "outputs": [
    {
     "name": "stdout",
     "output_type": "stream",
     "text": [
      "\n",
      "Q1 =\n",
      "\n",
      "   -0.5000    0.5000    0.4243   -0.5657\n",
      "   -0.5000   -0.5000    0.5657    0.4243\n",
      "   -0.5000   -0.5000   -0.5657   -0.4243\n",
      "   -0.5000    0.5000   -0.4243    0.5657\n",
      "\n",
      "\n",
      "R1 =\n",
      "\n",
      "   -2.0000   -1.0000   -2.5000\n",
      "    0.0000    1.0000    2.5000\n",
      "    0.0000   -0.0000    3.5355\n",
      "    0.0000    0.0000         0\n",
      "\n",
      "\n",
      "Q =\n",
      "\n",
      "   -0.5000    0.5000    0.4243   -0.5657\n",
      "   -0.5000   -0.5000    0.5657    0.4243\n",
      "   -0.5000   -0.5000   -0.5657   -0.4243\n",
      "   -0.5000    0.5000   -0.4243    0.5657\n",
      "\n",
      "\n",
      "R =\n",
      "\n",
      "   -2.0000   -1.0000   -2.5000\n",
      "         0    1.0000    2.5000\n",
      "         0         0    3.5355\n",
      "         0         0         0\n",
      "\n"
     ]
    }
   ],
   "source": [
    "[Q1, R1] = myqr(A)\n",
    "Q, R"
   ]
  }
 ],
 "metadata": {
  "kernelspec": {
   "display_name": "Matlab",
   "language": "matlab",
   "name": "matlab"
  },
  "language_info": {
   "codemirror_mode": "octave",
   "file_extension": ".m",
   "help_links": [
    {
     "text": "MetaKernel Magics",
     "url": "https://github.com/calysto/metakernel/blob/master/metakernel/magics/README.md"
    }
   ],
   "mimetype": "text/x-octave",
   "name": "matlab",
   "version": "0.16.1"
  }
 },
 "nbformat": 4,
 "nbformat_minor": 2
}
