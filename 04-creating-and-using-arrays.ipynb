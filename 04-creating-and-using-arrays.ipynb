{
 "cells": [
  {
   "cell_type": "markdown",
   "metadata": {
    "slideshow": {
     "slide_type": "slide"
    }
   },
   "source": [
    "# Creating and Using Arrays\n",
    "\n",
    "**Announcements**:\n",
    " * Office hours: MW 4:15~5:15\n",
    " * Extended office hours for today: 4:15~5:45 @ MA 317\n"
   ]
  },
  {
   "cell_type": "code",
   "execution_count": null,
   "metadata": {
    "slideshow": {
     "slide_type": "-"
    }
   },
   "outputs": [],
   "source": [
    "format short, format compact"
   ]
  },
  {
   "cell_type": "markdown",
   "metadata": {
    "slideshow": {
     "slide_type": "slide"
    }
   },
   "source": [
    "In order to explore numerous interesting applications using MatLab, \n",
    "it is essential to handle efficiently a large amount of data \n",
    "stored in the form of **vectors** or **matrices**, which are collectively called **arrays**."
   ]
  },
  {
   "cell_type": "markdown",
   "metadata": {
    "slideshow": {
     "slide_type": "subslide"
    }
   },
   "source": [
    "<a id='creating_vectors'></a>\n",
    "## Creating Vectors"
   ]
  },
  {
   "cell_type": "markdown",
   "metadata": {
    "slideshow": {
     "slide_type": "-"
    }
   },
   "source": [
    "### Row vectors\n",
    "\n",
    "A row vector is created by listing its elements within a pair of brackets \n",
    "separated by either spaces or commas. For example,"
   ]
  },
  {
   "cell_type": "code",
   "execution_count": null,
   "metadata": {
    "slideshow": {
     "slide_type": "-"
    }
   },
   "outputs": [],
   "source": [
    "x = [2 3 -6]"
   ]
  },
  {
   "cell_type": "code",
   "execution_count": null,
   "metadata": {
    "slideshow": {
     "slide_type": "-"
    }
   },
   "outputs": [],
   "source": [
    "x = [2, 3, -6]"
   ]
  },
  {
   "cell_type": "markdown",
   "metadata": {
    "slideshow": {
     "slide_type": "subslide"
    }
   },
   "source": [
    "### Column vectors\n",
    "A column vector is created by listing its elements within a pair of brackets \n",
    "separated by semicolons. For example,"
   ]
  },
  {
   "cell_type": "code",
   "execution_count": null,
   "metadata": {
    "slideshow": {
     "slide_type": "-"
    }
   },
   "outputs": [],
   "source": [
    "w = [2; 3; -6]"
   ]
  },
  {
   "cell_type": "markdown",
   "metadata": {
    "slideshow": {
     "slide_type": "subslide"
    }
   },
   "source": [
    "Alternately, one can _transpose_ a row vector to obtain a column vector."
   ]
  },
  {
   "cell_type": "code",
   "execution_count": null,
   "metadata": {},
   "outputs": [],
   "source": [
    "w = [2, 3, -6].'\n",
    "u = w.'"
   ]
  },
  {
   "cell_type": "markdown",
   "metadata": {
    "slideshow": {
     "slide_type": "subslide"
    }
   },
   "source": [
    "**Note:** The MatLab expression ``x.'`` corresponds to $\\mathbf{x}^{\\mathrm{T}}$, \n",
    "the  transpose of $\\mathbf{x}$, while ``x'`` corresponds to \n",
    "$\\mathbf{x}^{\\mathrm{H}} = (\\mathbf{x}^*)^{\\mathrm{T}}$, \n",
    "the  Hermitian or conjugate transpose of $\\mathbf{x}$."
   ]
  },
  {
   "cell_type": "code",
   "execution_count": null,
   "metadata": {},
   "outputs": [],
   "source": [
    "x = [1+2i, 3+4i]\n",
    "x'\n",
    "x.'"
   ]
  },
  {
   "cell_type": "markdown",
   "metadata": {
    "slideshow": {
     "slide_type": "slide"
    }
   },
   "source": [
    "<a id='creating_matrices'></a>\n",
    "## Creating Matrices"
   ]
  },
  {
   "cell_type": "markdown",
   "metadata": {},
   "source": [
    "A matrix is formed by listing all its elements \n",
    "within a pair of brackets with the elements in each row \n",
    "separated by either spaces or commas and the rows separated by semicolons. For example,"
   ]
  },
  {
   "cell_type": "code",
   "execution_count": null,
   "metadata": {},
   "outputs": [],
   "source": [
    "A = [1 2 3; 4 5 6; 7 8 9]  "
   ]
  },
  {
   "cell_type": "markdown",
   "metadata": {
    "slideshow": {
     "slide_type": "slide"
    }
   },
   "source": [
    "<a id='accessing_elements_of_arrays'></a>\n",
    "## Accessing Elements of Arrays"
   ]
  },
  {
   "cell_type": "markdown",
   "metadata": {},
   "source": [
    "* Access the $i$th element \n",
    "  of $\\mathbf{x}$ by\n",
    "```\n",
    ">> x(i)\n",
    "```\n",
    "* Access the element in the $i$th row \n",
    "  and the $j$th column of $A$ by\n",
    "```\n",
    ">> A(i,j)\n",
    "```"
   ]
  },
  {
   "cell_type": "markdown",
   "metadata": {
    "slideshow": {
     "slide_type": "subslide"
    }
   },
   "source": [
    "* Assign values to a specific element by\n",
    "```\n",
    ">> x(i) = 7\n",
    "```\n",
    "or \n",
    "```\n",
    ">> A(i,j) = -sqrt(5)\n",
    "```\n",
    "* Indices start at 1 in MatLab, not at 0!"
   ]
  },
  {
   "cell_type": "markdown",
   "metadata": {
    "slideshow": {
     "slide_type": "subslide"
    }
   },
   "source": [
    "**Question.** \n",
    "Let `A` be a $3 \\times 3$ matrix in MatLab. \n",
    "What do you think the value of `A(4)`? \n",
    "Can you guess a rule for `A(i)`?"
   ]
  },
  {
   "cell_type": "code",
   "execution_count": null,
   "metadata": {},
   "outputs": [],
   "source": [
    "A = [1 2 3; 4 5 6; 7 8 9]\n",
    "A(4)\n",
    "A(:)"
   ]
  },
  {
   "cell_type": "markdown",
   "metadata": {
    "slideshow": {
     "slide_type": "slide"
    }
   },
   "source": [
    "<a id='operations_involving_arrays'></a>\n",
    "## Operations Involving Arrays"
   ]
  },
  {
   "cell_type": "markdown",
   "metadata": {
    "slideshow": {
     "slide_type": "subslide"
    }
   },
   "source": [
    "Viewing (column) vectors as matrices with only one column, \n",
    "we summarize operations among vectors and matrices \n",
    "soley in terms of matrices when no confusion arises. \n",
    "\n",
    "* **Addition/subtraction:** \"`+`\" and \"`-`\"\n",
    "  * matrix $\\pm$ matrix\n",
    "  * scalar $\\pm$ matrix"
   ]
  },
  {
   "cell_type": "code",
   "execution_count": null,
   "metadata": {
    "slideshow": {
     "slide_type": "-"
    }
   },
   "outputs": [],
   "source": [
    "1 + [1 2; 3 4]"
   ]
  },
  {
   "cell_type": "markdown",
   "metadata": {
    "slideshow": {
     "slide_type": "subslide"
    }
   },
   "source": [
    "* **Multiplication:** \"`*`\"\n",
    "  * matrix by matrix\n",
    "  * matrix by scalar"
   ]
  },
  {
   "cell_type": "code",
   "execution_count": null,
   "metadata": {},
   "outputs": [],
   "source": [
    "A = [1 2; 3 4]\n",
    "B = [1 2 3; 4 5 6]\n",
    "A * B"
   ]
  },
  {
   "cell_type": "markdown",
   "metadata": {
    "slideshow": {
     "slide_type": "subslide"
    }
   },
   "source": [
    "* **Inner and outer products:** For a column vector `x` of real entries,\n",
    "  * inner product: `x' * x`\n",
    "  * outer product: `x * x'`"
   ]
  },
  {
   "cell_type": "code",
   "execution_count": null,
   "metadata": {},
   "outputs": [],
   "source": [
    "x = [1 2 3 4].'\n",
    "x.' * x\n",
    "x * x.'"
   ]
  },
  {
   "cell_type": "markdown",
   "metadata": {
    "slideshow": {
     "slide_type": "subslide"
    }
   },
   "source": [
    "* **Elementwise operators:** \n",
    "\"`.*`\", \"`./`\", \"`.^`\"\n",
    " \n",
    "  For example, given $\\mathtt{v} = (v_1, v_2, \\ldots, v_n)$ \n",
    "  and $\\mathtt{w} = (w_1, w_2, \\ldots, w_n)$, \n",
    "  $$\\mathtt{v .* w} = (v_1 w_1, v_2 w_2, \\ldots, v_n w_n).$$"
   ]
  },
  {
   "cell_type": "code",
   "execution_count": null,
   "metadata": {},
   "outputs": [],
   "source": [
    "v = [1 2 3]\n",
    "w = [3 5 -2]\n",
    "v .^ w"
   ]
  },
  {
   "cell_type": "markdown",
   "metadata": {
    "slideshow": {
     "slide_type": "subslide"
    }
   },
   "source": [
    "  \n",
    "* **Square matrix to a positive integral power:** \"`^`\"\n",
    "\n",
    "  For $\\mathtt{A} \\in \\mathbb{R}^{m \\times m}$, \n",
    "  ```\n",
    "  >> A^5\n",
    "  ```\n",
    "  ```\n",
    "  >> A*A*A*A*A\n",
    "  ```\n",
    "  yield the same result. "
   ]
  },
  {
   "cell_type": "code",
   "execution_count": null,
   "metadata": {},
   "outputs": [],
   "source": [
    "A = [1 3 5; 2 2 1; 9 8 2];\n",
    "A ^ 3"
   ]
  },
  {
   "cell_type": "markdown",
   "metadata": {
    "slideshow": {
     "slide_type": "subslide"
    }
   },
   "source": [
    "  \n",
    "* **Inversion of a square matrix:** \"`inv`\"\n",
    "\n",
    "  For $\\mathtt{A} \\in \\mathbb{R}^{m \\times m}$, \n",
    "  ```\n",
    "  >> inv(A)\n",
    "  ```\n",
    "  and\n",
    "  ```\n",
    "  >> A^(-1)\n",
    "  ```\n",
    "  produce the same result. "
   ]
  },
  {
   "cell_type": "code",
   "execution_count": null,
   "metadata": {
    "slideshow": {
     "slide_type": "subslide"
    }
   },
   "outputs": [],
   "source": [
    "inv(A) * A"
   ]
  },
  {
   "cell_type": "markdown",
   "metadata": {
    "slideshow": {
     "slide_type": "slide"
    }
   },
   "source": [
    "<a id='more_ways_of_creating_arrays'></a>\n",
    "## More Ways of Creating Arrays"
   ]
  },
  {
   "cell_type": "markdown",
   "metadata": {
    "slideshow": {
     "slide_type": "subslide"
    }
   },
   "source": [
    "<a id='arithmetic_progressions'></a>\n",
    "### Arithmetic progressions"
   ]
  },
  {
   "cell_type": "markdown",
   "metadata": {
    "slideshow": {
     "slide_type": "-"
    }
   },
   "source": [
    "In MatLab, we can create a row vector of an arithmetic progression easily.\n",
    "\n",
    "**Colon (`:`) operator**:\n",
    "* `a:d:b` creates a progression \n",
    "  from `a` to `b` with increment `d`. \n",
    "* When `b-a` is not an integer multiple of `d`, \n",
    "  the progression stops at `a + fix((b-a)/d)`. \n",
    "* When `d = 1`, one may simply use `a:b`."
   ]
  },
  {
   "cell_type": "code",
   "execution_count": null,
   "metadata": {
    "slideshow": {
     "slide_type": "subslide"
    }
   },
   "outputs": [],
   "source": [
    "0:2:10"
   ]
  },
  {
   "cell_type": "code",
   "execution_count": null,
   "metadata": {},
   "outputs": [],
   "source": [
    "0:2:11"
   ]
  },
  {
   "cell_type": "code",
   "execution_count": null,
   "metadata": {
    "slideshow": {
     "slide_type": "subslide"
    }
   },
   "outputs": [],
   "source": [
    "0:10"
   ]
  },
  {
   "cell_type": "code",
   "execution_count": null,
   "metadata": {},
   "outputs": [],
   "source": [
    "0:1:10"
   ]
  },
  {
   "cell_type": "markdown",
   "metadata": {
    "slideshow": {
     "slide_type": "subslide"
    }
   },
   "source": [
    "**Explore.**  See what happens \n",
    "when $\\mathtt{b} < \\mathtt{a}$? \n",
    "Try different $\\mathtt{d}$'s."
   ]
  },
  {
   "cell_type": "code",
   "execution_count": null,
   "metadata": {},
   "outputs": [],
   "source": [
    "a = 10;\n",
    "b = 0;\n",
    "d = -2;\n",
    "a:d:b"
   ]
  },
  {
   "cell_type": "markdown",
   "metadata": {
    "slideshow": {
     "slide_type": "subslide"
    }
   },
   "source": [
    "**`linspace` function:**\n",
    "* `linspace(a, b, n)` creates the arithmetic progression of \n",
    "  $n$ terms starting at $a$ and ending at $b$.\n",
    "* `linspace` is more suitable when the number of elements \n",
    "  in a progression is known. The colon operator is more appropriate \n",
    "  when the difference between successive terms is known."
   ]
  },
  {
   "cell_type": "code",
   "execution_count": null,
   "metadata": {},
   "outputs": [],
   "source": [
    "linspace(0, 10, 11)"
   ]
  },
  {
   "cell_type": "markdown",
   "metadata": {
    "slideshow": {
     "slide_type": "subslide"
    }
   },
   "source": [
    "**Example.** Create the *periodic*\n",
    "arithmetic progression \n",
    "$$(1,2,3,4,0,1,2,3,4,0,1,2,3,4,0)$$\n",
    "using the colon operator and `mod` function. "
   ]
  },
  {
   "cell_type": "code",
   "execution_count": null,
   "metadata": {},
   "outputs": [],
   "source": [
    "% Answer\n",
    "mod((1:15), 5)"
   ]
  },
  {
   "cell_type": "markdown",
   "metadata": {
    "slideshow": {
     "slide_type": "subslide"
    }
   },
   "source": [
    "**Exercise.** Create the following row vectors \n",
    "using ONE MatLab statement.\n",
    "1. $\\mathbf{v} = (1,0,1,0,1,0,1,0,1,0,1,0,1,0,1,0,)$\n",
    "2. $\\mathbf{w} = (1,2,3,4,1,2,3,4,1,2,3,4)$"
   ]
  },
  {
   "cell_type": "code",
   "execution_count": null,
   "metadata": {},
   "outputs": [],
   "source": [
    "v = mod( (1:16), 2 );\n",
    "w = mod( (0:11), 4 ) + 1;"
   ]
  },
  {
   "cell_type": "markdown",
   "metadata": {
    "slideshow": {
     "slide_type": "subslide"
    }
   },
   "source": [
    "<a id='geometric_and_other_progressions'></a>\n",
    "### Geometric and Other Progressions"
   ]
  },
  {
   "cell_type": "markdown",
   "metadata": {},
   "source": [
    "Elementwise operations such as \n",
    "\"`.*`\", \"`./`\", and \"`.^`\" \n",
    "are useful in generating progression other than arithmetic ones. "
   ]
  },
  {
   "cell_type": "code",
   "execution_count": null,
   "metadata": {},
   "outputs": [],
   "source": [
    "2 .^ (0:10)"
   ]
  },
  {
   "cell_type": "markdown",
   "metadata": {
    "slideshow": {
     "slide_type": "subslide"
    }
   },
   "source": [
    "**Example.** Create \n",
    "\n",
    "* $\\mathbf{v} = (1, 2, 4, 8,\\ldots, 1024)$ \n",
    "* $\\mathbf{w} = (1, 4, 9, 16, \\ldots, 100)$\n",
    "\n",
    "using ONE MATLAB statement."
   ]
  },
  {
   "cell_type": "code",
   "execution_count": null,
   "metadata": {},
   "outputs": [],
   "source": [
    "v = 2 .^ [0:10]\n",
    "w = [1:10] .^ 2"
   ]
  },
  {
   "cell_type": "markdown",
   "metadata": {
    "slideshow": {
     "slide_type": "subslide"
    }
   },
   "source": [
    "**Example.** Create \n",
    "\n",
    "* $\\mathbf{v} = (\\sin 0^{\\circ}, \\sin 30^{\\circ}, \\sin 60^{\\circ}, \\ldots, \\sin 180^{\\circ})$ \n",
    "* $\\mathbf{w} = (e^1, e^4, e^9, \\ldots, e^{64})$\n",
    "\n",
    "using ONE MATLAB statement."
   ]
  },
  {
   "cell_type": "code",
   "execution_count": null,
   "metadata": {},
   "outputs": [],
   "source": [
    "format short e\n",
    "w = exp([1:8].^2)"
   ]
  },
  {
   "cell_type": "code",
   "execution_count": null,
   "metadata": {},
   "outputs": [],
   "source": [
    "format short e\n",
    "w = exp([1:8].^2)"
   ]
  },
  {
   "cell_type": "markdown",
   "metadata": {
    "slideshow": {
     "slide_type": "slide"
    }
   },
   "source": [
    "<a id='building_an_array_out_of_arrays'></a>\n",
    "## Building an Array out of Arrays"
   ]
  },
  {
   "cell_type": "markdown",
   "metadata": {
    "slideshow": {
     "slide_type": "subslide"
    }
   },
   "source": [
    "`reshape(A, m, n)` reshapes an array $A$ \n",
    "into an $m \\times n$ matrix \n",
    "whose elements are taken *columnwise* from $A$."
   ]
  },
  {
   "cell_type": "code",
   "execution_count": null,
   "metadata": {},
   "outputs": [],
   "source": [
    "A = reshape(1:20, 4, 5)"
   ]
  },
  {
   "cell_type": "markdown",
   "metadata": {
    "slideshow": {
     "slide_type": "subslide"
    }
   },
   "source": [
    "`repmat(A, m, n)` replicates the array $A$, \n",
    "$m$ times vertically and $n$ times horizontally."
   ]
  },
  {
   "cell_type": "code",
   "execution_count": null,
   "metadata": {},
   "outputs": [],
   "source": [
    "B = repmat([1 2; 3 4], 3, 2)"
   ]
  },
  {
   "cell_type": "markdown",
   "metadata": {
    "slideshow": {
     "slide_type": "subslide"
    }
   },
   "source": [
    "If $A$ and $B$ have comparable sizes, \n",
    "we can concatenate them:\n",
    "\n",
    "* vertically: `[A; B]`\n",
    "* horizontally: `[A B]`"
   ]
  },
  {
   "cell_type": "code",
   "execution_count": null,
   "metadata": {},
   "outputs": [],
   "source": [
    "A = [1 2; 3 4];\n",
    "B = [5 6; 7 8];\n",
    "[A B]"
   ]
  },
  {
   "cell_type": "markdown",
   "metadata": {
    "slideshow": {
     "slide_type": "slide"
    }
   },
   "source": [
    "<a id='size_of_arrays'></a>\n",
    "## Size of Arrays"
   ]
  },
  {
   "cell_type": "markdown",
   "metadata": {},
   "source": [
    "Let $\\mathtt{v} \\in \\mathbb{R}^m$ \n",
    "and $A \\in \\mathbb{R}^{m \\times n}$. Then\n",
    "\n",
    "* `length(v)` gives the number of elements\n",
    "  of $\\mathtt{v}$, which is $m$.\n",
    "* `size(A, 1)` gives the number \n",
    "  of rows of $A$, which is $m$.\n",
    "* `size(A, 2)` gives the number \n",
    "  of columns of $A$, which is $n$.\n",
    "* `size(A)` outputs a two-vector $(m,n)$.\n",
    "* `numel(A)` returns the total number \n",
    "  of elements in $A$, which is $m \\times n$.\n"
   ]
  },
  {
   "cell_type": "markdown",
   "metadata": {
    "slideshow": {
     "slide_type": "subslide"
    }
   },
   "source": [
    "**Explore.** \n",
    "What are the sizes of \n",
    "`[ ]`, `[1:0]`, and `[1:0].'`? \n",
    "What are their `numel` values?"
   ]
  },
  {
   "cell_type": "code",
   "execution_count": null,
   "metadata": {},
   "outputs": [],
   "source": [
    "size([])\n",
    "size([1:0])\n",
    "size([1:0])"
   ]
  },
  {
   "cell_type": "markdown",
   "metadata": {
    "slideshow": {
     "slide_type": "slide"
    }
   },
   "source": [
    "<a id='creating_an_entire_matrix_in_one_statement'></a>\n",
    "## Creating an Entire Matrix in One Statement"
   ]
  },
  {
   "cell_type": "markdown",
   "metadata": {},
   "source": [
    "We can create matrices consisting of all zeros or all ones easily in MATLAB. For instance, "
   ]
  },
  {
   "cell_type": "code",
   "execution_count": null,
   "metadata": {
    "slideshow": {
     "slide_type": "-"
    }
   },
   "outputs": [],
   "source": [
    "zeros(3)\n",
    "zeros(2, 3)\n",
    "ones(1, 10)"
   ]
  },
  {
   "cell_type": "markdown",
   "metadata": {
    "slideshow": {
     "slide_type": "subslide"
    }
   },
   "source": [
    "Identity matrices are easy to construct."
   ]
  },
  {
   "cell_type": "code",
   "execution_count": null,
   "metadata": {},
   "outputs": [],
   "source": [
    "eye(4)"
   ]
  },
  {
   "cell_type": "markdown",
   "metadata": {
    "slideshow": {
     "slide_type": "subslide"
    }
   },
   "source": [
    "**Note.** \n",
    "`zeros([m,n])` yields the same result as `zeros(m,n)`. \n",
    "The same applies to `ones`. So we can do something like this."
   ]
  },
  {
   "cell_type": "code",
   "execution_count": null,
   "metadata": {
    "scrolled": true
   },
   "outputs": [],
   "source": [
    "A = reshape([1:30], 5, 6)\n",
    "B = 3*ones(size(A))"
   ]
  },
  {
   "cell_type": "markdown",
   "metadata": {
    "slideshow": {
     "slide_type": "slide"
    }
   },
   "source": [
    "<a id='creating_matrices_using_diagonals'></a>\n",
    "## Creating Matrices Using Diagonals"
   ]
  },
  {
   "cell_type": "markdown",
   "metadata": {},
   "source": [
    "We can create a matrix by specifying the diagonal elements. \n",
    "Conversely, the diagonal entries of a certain matrix can be extracted as a vector. "
   ]
  },
  {
   "cell_type": "code",
   "execution_count": null,
   "metadata": {},
   "outputs": [],
   "source": [
    "v = linspace(0, 1, 6);\n",
    "D = diag(v)"
   ]
  },
  {
   "cell_type": "code",
   "execution_count": null,
   "metadata": {
    "slideshow": {
     "slide_type": "subslide"
    }
   },
   "outputs": [],
   "source": [
    "A = reshape(1:36, 6, 6)\n",
    "diag(A)\n",
    "diag(A, 1);\n",
    "diag(A, -2);"
   ]
  },
  {
   "cell_type": "markdown",
   "metadata": {
    "slideshow": {
     "slide_type": "subslide"
    }
   },
   "source": [
    "We can also extract upper or lower triangular entries \n",
    "(above and including $k$th diagonal) of a given matrix."
   ]
  },
  {
   "cell_type": "code",
   "execution_count": null,
   "metadata": {},
   "outputs": [],
   "source": [
    "triu(A)"
   ]
  },
  {
   "cell_type": "code",
   "execution_count": null,
   "metadata": {},
   "outputs": [],
   "source": [
    "triu(A, 1)"
   ]
  },
  {
   "cell_type": "code",
   "execution_count": null,
   "metadata": {},
   "outputs": [],
   "source": [
    "tril(A,2)"
   ]
  },
  {
   "cell_type": "markdown",
   "metadata": {
    "slideshow": {
     "slide_type": "slide"
    }
   },
   "source": [
    "<a id='indices_as_vectors'></a>\n",
    "## Indices as Vectors"
   ]
  },
  {
   "cell_type": "markdown",
   "metadata": {},
   "source": [
    "We can access multiple elements of an array using vectors. \n",
    "Let $\\mathbf{v}$ be a vector and $A$ be a matrix.\n",
    "\n",
    "* `v(i:j)` \n",
    "  returns $i$th through $j$th entries.\n",
    "* `A(i:j, k:l)` \n",
    "  returns the intersection of rows from $i$ to $j$ and columns from $k$ to $l$.\n",
    "* `v(end)` \n",
    "  outputs the last element of $\\mathbf{v}$.\n",
    "* One may assign values to the elements specified by indicial vectors.\n",
    "* `A(:)` \n",
    "  turns $A$ into a column vector. "
   ]
  },
  {
   "cell_type": "code",
   "execution_count": null,
   "metadata": {
    "slideshow": {
     "slide_type": "subslide"
    }
   },
   "outputs": [],
   "source": [
    "v(2:4)"
   ]
  },
  {
   "cell_type": "code",
   "execution_count": null,
   "metadata": {},
   "outputs": [],
   "source": [
    "A(1:3, 3:end)"
   ]
  },
  {
   "cell_type": "code",
   "execution_count": null,
   "metadata": {
    "scrolled": true,
    "slideshow": {
     "slide_type": "subslide"
    }
   },
   "outputs": [],
   "source": [
    "A(:)"
   ]
  },
  {
   "cell_type": "code",
   "execution_count": null,
   "metadata": {
    "slideshow": {
     "slide_type": "subslide"
    }
   },
   "outputs": [],
   "source": [
    "v"
   ]
  },
  {
   "cell_type": "code",
   "execution_count": null,
   "metadata": {},
   "outputs": [],
   "source": [
    "v(1) = 7\n",
    "v(2:end) = 0"
   ]
  },
  {
   "cell_type": "markdown",
   "metadata": {
    "slideshow": {
     "slide_type": "slide"
    }
   },
   "source": [
    "## Random Vectors and Matrices\n",
    "\n",
    "To generate an $m\\times n$ matrix of:\n",
    " * `rand(m,n)`: \n",
    "   uniform random numbers in $(0,1)$\n",
    " * `randi(k,m,n)`: \n",
    "   uniform random integers in $[1,k]$\n",
    " * `randn(m,n)`: \n",
    "   Gaussian random numbers with mean 0 and standard deviation 1"
   ]
  },
  {
   "cell_type": "code",
   "execution_count": null,
   "metadata": {
    "slideshow": {
     "slide_type": "subslide"
    }
   },
   "outputs": [],
   "source": [
    "rand(3, 2)"
   ]
  },
  {
   "cell_type": "code",
   "execution_count": null,
   "metadata": {},
   "outputs": [],
   "source": [
    "randi(10, 1, 10)"
   ]
  },
  {
   "cell_type": "code",
   "execution_count": null,
   "metadata": {},
   "outputs": [],
   "source": [
    "randn(3, 1)"
   ]
  },
  {
   "cell_type": "markdown",
   "metadata": {
    "slideshow": {
     "slide_type": "subslide"
    }
   },
   "source": [
    " - To generate uniform random numbers \n",
    "   in $(a, b)$, use\n",
    " ```octave\n",
    " a + (b - a) * rand(m, n)\n",
    " ```\n",
    " - To generate uniform random integers \n",
    "   in $[k_1, k_2]$, use\n",
    " ```octave\n",
    " randi([k1, k2], m, n)\n",
    " ```\n",
    " - To generate Gaussian random numbers \n",
    "   with mean $\\mu$ and standard deviation $\\sigma$, use\n",
    " ```octave\n",
    " mu + sig * randn(m, n)\n",
    " ```"
   ]
  },
  {
   "cell_type": "code",
   "execution_count": null,
   "metadata": {},
   "outputs": [],
   "source": []
  },
  {
   "cell_type": "markdown",
   "metadata": {
    "slideshow": {
     "slide_type": "slide"
    }
   },
   "source": [
    "## The `find` Function\n",
    "\n",
    "Let `v` be an array of numbers. \n",
    "Then `find(<condition>)` returns the (linear) indices of `v` \n",
    "satisfying `<condition>`. \n",
    "\n",
    "In case `v` is a matrix, \n",
    "the indices correpond to those of the column vector `v(:)`."
   ]
  },
  {
   "cell_type": "code",
   "execution_count": null,
   "metadata": {
    "slideshow": {
     "slide_type": "subslide"
    }
   },
   "outputs": [],
   "source": [
    "format short \n",
    "v = rand(1, 5)\n",
    "find(v < .5)\n",
    "find(v >= .5)"
   ]
  },
  {
   "cell_type": "code",
   "execution_count": null,
   "metadata": {
    "slideshow": {
     "slide_type": "subslide"
    }
   },
   "outputs": [],
   "source": [
    "v = randi(6, 1, 10)\n",
    "find(v == 1)\n",
    "find(v ~= 1)"
   ]
  },
  {
   "cell_type": "code",
   "execution_count": null,
   "metadata": {
    "slideshow": {
     "slide_type": "subslide"
    }
   },
   "outputs": [],
   "source": [
    "v = randn(1, 10)\n",
    "find(v < -1 | v > 1)"
   ]
  },
  {
   "cell_type": "markdown",
   "metadata": {
    "slideshow": {
     "slide_type": "slide"
    }
   },
   "source": [
    "## Vector and Matrix Norms\n",
    "\n",
    "The \"length\" of an array is measured by its **norm**. \n",
    "\n",
    "The $p$-norm of a vector \n",
    "$\\mathbf{v} \\in \\mathbb{R}^m$, \n",
    "is defined by\n",
    "$$\n",
    "\\Vert \\mathbf{v} \\Vert_p = \\left( \\sum_{j = 1}^{m} |v_j|^p \\right)^{1/p} .\n",
    "$$\n",
    "\n",
    "When $p = \\infty$, \n",
    "$$\n",
    "\\Vert \\mathbf{v} \\Vert_{\\infty} = \\max_{1 \\le j \\le m} |v_i| .\n",
    "$$"
   ]
  },
  {
   "cell_type": "markdown",
   "metadata": {
    "slideshow": {
     "slide_type": "subslide"
    }
   },
   "source": [
    "Three of the most commonly used $p$-norms \n",
    "can be calculated easily in MatLab:"
   ]
  },
  {
   "cell_type": "code",
   "execution_count": null,
   "metadata": {
    "slideshow": {
     "slide_type": "-"
    }
   },
   "outputs": [],
   "source": [
    "v = [3, 4];\n",
    "norm(v, 1)\n",
    "norm(v, 2)\n",
    "norm(v, inf)"
   ]
  },
  {
   "cell_type": "markdown",
   "metadata": {
    "slideshow": {
     "slide_type": "subslide"
    }
   },
   "source": [
    "The $p$-norm of a matrix\n",
    "$A \\in \\mathbb{R}^{m \\times n}$ \n",
    "is given by a little more involved formula:\n",
    "\n",
    "$$\n",
    "\\Vert A \\Vert_p \n",
    "= \\max_{\\mathbf{x} \\neq 0} \\frac{\\Vert A \\mathbf{x} \\Vert_p}{\\Vert \\mathbf{x} \\Vert_p}\n",
    "= \\max_{\\Vert \\mathbf{x} \\Vert_p = 1} \\Vert A\\mathbf{x} \\Vert_p .\n",
    "$$\n",
    "\n",
    "1-, 2-, and infinity-norm of a matrix \n",
    "can be calculated by the same function as above."
   ]
  },
  {
   "cell_type": "code",
   "execution_count": null,
   "metadata": {},
   "outputs": [],
   "source": [
    "A = triu(reshape(1:9, 3, 3))"
   ]
  },
  {
   "cell_type": "code",
   "execution_count": null,
   "metadata": {},
   "outputs": [],
   "source": [
    "norm(A, 1)\n",
    "norm(A, 2)\n",
    "norm(A, inf)"
   ]
  },
  {
   "cell_type": "code",
   "execution_count": null,
   "metadata": {},
   "outputs": [],
   "source": [
    "sqrt(max(eig(A'*A)))"
   ]
  },
  {
   "cell_type": "markdown",
   "metadata": {
    "slideshow": {
     "slide_type": "subslide"
    }
   },
   "source": [
    "Another commonly used matrix norm, \n",
    "other than $p$-norms, \n",
    "is the Frobenius norm:\n",
    "\n",
    "$$\n",
    "\\Vert A \\Vert_F = \\left( \\sum_{i=1}^{m} \\sum_{j=1}^{n} |a_{ij}|^2 \\right)^{1/2} .\n",
    "$$\n",
    "\n",
    "It can be calculated by `norm(A, 'fro')` or `norm(A(:), 2)`. \n",
    "Think about why."
   ]
  },
  {
   "cell_type": "markdown",
   "metadata": {
    "slideshow": {
     "slide_type": "slide"
    }
   },
   "source": [
    "## Tables Using Matrices in MATLAB\n",
    "\n",
    "It is easy to store lots of data in MATLAB \n",
    "using matrices viewing them as a way of \n",
    "organizing a two-dimensional list of numbers in a tabular form. \n",
    "\n",
    "We revisit the Stirling's formula for demonstration."
   ]
  },
  {
   "cell_type": "code",
   "execution_count": null,
   "metadata": {
    "slideshow": {
     "slide_type": "subslide"
    }
   },
   "outputs": [],
   "source": [
    "%% script m-file: stirn.m\n",
    "n = 20;\n",
    "n_vec = (2:2:n)';\n",
    "fact = factorial(n_vec);\n",
    "stir = sqrt(2*pi*n_vec).*(n_vec/exp(1)).^(n_vec);\n",
    "abs_err = stir - fact;\n",
    "rel_err = stir./fact - 1;\n",
    "T = [n_vec, fact, stir, abs_err, rel_err];\n",
    "disp('            n           n!     stirling      abs_err      rel_err')\n",
    "disp('-----------------------------------------------------------------')\n",
    "format short g\n",
    "disp(T)"
   ]
  },
  {
   "cell_type": "markdown",
   "metadata": {
    "slideshow": {
     "slide_type": "subslide"
    }
   },
   "source": [
    "Here is another example."
   ]
  },
  {
   "cell_type": "code",
   "execution_count": null,
   "metadata": {},
   "outputs": [],
   "source": [
    "%% script m-file: differences\n",
    "n = 11;\n",
    "x = linspace(0, 1, n)'.^2;\n",
    "y = x + sin(x);\n",
    "dx = x(2:end) - x(1:end-1);\n",
    "dy = y(2:end) - y(1:end-1);\n",
    "T = [[1:n-1]', x(1:end-1), dx, dy];\n",
    "format compact, format short g\n",
    "disp('            n            x           dx           dy')\n",
    "disp('          ------------------------------------------')\n",
    "disp(T)"
   ]
  },
  {
   "cell_type": "code",
   "execution_count": null,
   "metadata": {
    "slideshow": {
     "slide_type": "subslide"
    }
   },
   "outputs": [],
   "source": [
    "disp(T)\n",
    "disp([n, x(end)])"
   ]
  },
  {
   "cell_type": "code",
   "execution_count": null,
   "metadata": {
    "slideshow": {
     "slide_type": "subslide"
    }
   },
   "outputs": [],
   "source": [
    "disp(num2str(T, 5))\n",
    "disp(num2str([n, x(end)], 5))"
   ]
  }
 ],
 "metadata": {
  "celltoolbar": "Slideshow",
  "kernelspec": {
   "display_name": "Matlab",
   "language": "matlab",
   "name": "matlab"
  },
  "language_info": {
   "codemirror_mode": "octave",
   "file_extension": ".m",
   "help_links": [
    {
     "text": "MetaKernel Magics",
     "url": "https://github.com/calysto/metakernel/blob/master/metakernel/magics/README.md"
    }
   ],
   "mimetype": "text/x-octave",
   "name": "matlab",
   "version": "0.16.1"
  }
 },
 "nbformat": 4,
 "nbformat_minor": 2
}
