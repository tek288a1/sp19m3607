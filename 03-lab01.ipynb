{
 "cells": [
  {
   "cell_type": "markdown",
   "metadata": {
    "slideshow": {
     "slide_type": "slide"
    }
   },
   "source": [
    "# Lab 1\n",
    "\n",
    "01-11-2019 (F)"
   ]
  },
  {
   "cell_type": "code",
   "execution_count": 1,
   "metadata": {
    "slideshow": {
     "slide_type": "-"
    }
   },
   "outputs": [],
   "source": [
    "format compact\n",
    "\n",
    "clear factorial"
   ]
  },
  {
   "cell_type": "markdown",
   "metadata": {
    "slideshow": {
     "slide_type": "slide"
    }
   },
   "source": [
    "## Common Mistake 1: variable names\n",
    "\n",
    "In naming a variable, be careful not to use the names that are already defined in MATLAB. For instance, the following code will cause an error since `factorial` is already defined.\n",
    "\n",
    "```\n",
    "factorial = 7;\n",
    "n = 10;\n",
    "err_abs = sqrt(2*pi*n) * (n/exp(1))^n - factorial(n);\n",
    "```"
   ]
  },
  {
   "cell_type": "markdown",
   "metadata": {
    "slideshow": {
     "slide_type": "slide"
    }
   },
   "source": [
    "## Common Mistake 2: moving around folders\n",
    "\n",
    "When you run MATLAB, you are working in a particular folder. In particular, if you want to run a script file titled `my_awesome_script.m` saved inside `Document/Math3607/my_amazing_work`, MATLAB needs to be there. There are several ways of navigating through folders.\n",
    "\n",
    " - Using Current Folder window\n",
    " - Using the directory navigation bar\n",
    " - Using `cd` command\n",
    " "
   ]
  },
  {
   "cell_type": "markdown",
   "metadata": {
    "slideshow": {
     "slide_type": "subslide"
    }
   },
   "source": [
    "MATLAB reads files stores in some specific directories no matter where your current working directory is. To see them:"
   ]
  },
  {
   "cell_type": "code",
   "execution_count": 2,
   "metadata": {
    "scrolled": true,
    "slideshow": {
     "slide_type": "-"
    }
   },
   "outputs": [
    {
     "name": "stdout",
     "output_type": "stream",
     "text": [
      "\n",
      "\t\tMATLABPATH\n",
      "\n",
      "\t/home/tae/Documents/MATLAB\n",
      "\t/usr/local/MATLAB/R2018b/toolbox/matlab/sparfun\n",
      "\t/usr/local/MATLAB/R2018b/toolbox/matlab/polyfun\n",
      "\t/usr/local/MATLAB/R2018b/toolbox/matlab/mvm\n",
      "\t/usr/local/MATLAB/R2018b/toolbox/matlab/datafun\n",
      "\t/usr/local/MATLAB/R2018b/toolbox/matlab/specfun\n",
      "\t/usr/local/MATLAB/R2018b/toolbox/matlab/datatypes\n",
      "\t/usr/local/MATLAB/R2018b/toolbox/matlab/funfun\n",
      "\t/usr/local/MATLAB/R2018b/toolbox/matlab/randfun\n",
      "\t/usr/local/MATLAB/R2018b/toolbox/matlab/ops\n",
      "\t/usr/local/MATLAB/R2018b/toolbox/matlab/iofun\n",
      "\t/usr/local/MATLAB/R2018b/toolbox/matlab/matfun\n",
      "\t/usr/local/MATLAB/R2018b/toolbox/matlab/validators\n",
      "\t/usr/local/MATLAB/R2018b/toolbox/matlab/elmat\n",
      "\t/usr/local/MATLAB/R2018b/toolbox/matlab/lang\n",
      "\t/usr/local/MATLAB/R2018b/toolbox/matlab/elfun\n",
      "\t/usr/local/MATLAB/R2018b/toolbox/matlab/strfun\n",
      "\t/usr/local/MATLAB/R2018b/toolbox/matlab/timefun\n",
      "\t/usr/local/MATLAB/R2018b/toolbox/matlab/general\n",
      "\t/usr/local/MATLAB/R2018b/toolbox/local\n",
      "\t/usr/local/MATLAB/R2018b/toolbox/matlab/testframework/measurement/core\n",
      "\t/usr/local/MATLAB/R2018b/toolbox/matlab/verctrl\n",
      "\t/usr/local/MATLAB/R2018b/toolbox/matlab/icons\n",
      "\t/usr/local/MATLAB/R2018b/toolbox/matlab/helptools\n",
      "\t/usr/local/MATLAB/R2018b/toolbox/matlab/datastoreio\n",
      "\t/usr/local/MATLAB/R2018b/toolbox/matlab/images\n",
      "\t/usr/local/MATLAB/R2018b/toolbox/matlab/testframework/performance/core\n",
      "\t/usr/local/MATLAB/R2018b/toolbox/matlab/codeanalysis/analysis\n",
      "\t/usr/local/MATLAB/R2018b/toolbox/matlab/datamanager\n",
      "\t/usr/local/MATLAB/R2018b/toolbox/matlab/testframework/mock/core\n",
      "\t/usr/local/MATLAB/R2018b/toolbox/matlab/parallel\n",
      "\t/usr/local/MATLAB/R2018b/toolbox/matlab/maps\n",
      "\t/usr/local/MATLAB/R2018b/toolbox/matlab/graphics/maps\n",
      "\t/usr/local/MATLAB/R2018b/toolbox/matlab/hardware/stubs\n",
      "\t/usr/local/MATLAB/R2018b/toolbox/matlab/graph2d\n",
      "\t/usr/local/MATLAB/R2018b/toolbox/matlab/graph3d\n",
      "\t/usr/local/MATLAB/R2018b/toolbox/matlab/graphics\n",
      "\t/usr/local/MATLAB/R2018b/toolbox/matlab/graphics/annotation\n",
      "\t/usr/local/MATLAB/R2018b/toolbox/matlab/graphics/chart\n",
      "\t/usr/local/MATLAB/R2018b/toolbox/matlab/graphics/illustration\n",
      "\t/usr/local/MATLAB/R2018b/toolbox/matlab/graphics/legacy\n",
      "\t/usr/local/MATLAB/R2018b/toolbox/matlab/graphics/obsolete\n",
      "\t/usr/local/MATLAB/R2018b/toolbox/matlab/plottools\n",
      "\t/usr/local/MATLAB/R2018b/toolbox/matlab/scribe\n",
      "\t/usr/local/MATLAB/R2018b/toolbox/matlab/scribe/obsolete\n",
      "\t/usr/local/MATLAB/R2018b/toolbox/matlab/specgraph\n",
      "\t/usr/local/MATLAB/R2018b/toolbox/matlab/uitools\n",
      "\t/usr/local/MATLAB/R2018b/toolbox/matlab/uitools/obsolete\n",
      "\t/usr/local/MATLAB/R2018b/toolbox/matlab/testframework/uitest\n",
      "\t/usr/local/MATLAB/R2018b/toolbox/matlab/optimfun\n",
      "\t/usr/local/MATLAB/R2018b/toolbox/matlab/testframework/uiautomation\n",
      "\t/usr/local/MATLAB/R2018b/toolbox/matlab/codetools\n",
      "\t/usr/local/MATLAB/R2018b/toolbox/matlab/codetools/embeddedoutputs\n",
      "\t/usr/local/MATLAB/R2018b/toolbox/matlab/graphfun\n",
      "\t/usr/local/MATLAB/R2018b/toolbox/matlab/testframework/measurement/ext\n",
      "\t/usr/local/MATLAB/R2018b/toolbox/matlab/winfun\n",
      "\t/usr/local/MATLAB/R2018b/toolbox/matlab/winfun/NET\n",
      "\t/usr/local/MATLAB/R2018b/toolbox/matlab/mapreduceio\n",
      "\t/usr/local/MATLAB/R2018b/toolbox/matlab/depfun\n",
      "\t/usr/local/MATLAB/R2018b/toolbox/matlab/testframework/ui/toolstrip\n",
      "\t/usr/local/MATLAB/R2018b/toolbox/matlab/bigdata\n",
      "\t/usr/local/MATLAB/R2018b/toolbox/matlab/testframework/unittest/core\n",
      "\t/usr/local/MATLAB/R2018b/toolbox/matlab/testframework/obsolete\n",
      "\t/usr/local/MATLAB/R2018b/toolbox/matlab/demos\n",
      "\t/usr/local/MATLAB/R2018b/toolbox/matlab/testframework/unittest/ext\n",
      "\t/usr/local/MATLAB/R2018b/toolbox/matlab/guide\n",
      "\t/usr/local/MATLAB/R2018b/toolbox/simulink/simdemos/industrial\n",
      "\t/usr/local/MATLAB/R2018b/toolbox/simulink/simulink_export_methods\n",
      "\t/usr/local/MATLAB/R2018b/toolbox/simulink/simdemos/simfeatures\n",
      "\t/usr/local/MATLAB/R2018b/toolbox/simulink/simdemos/simfeatures/modelreference\n",
      "\t/usr/local/MATLAB/R2018b/toolbox/simulink/simdemos/simfeatures/datadictionary\n",
      "\t/usr/local/MATLAB/R2018b/toolbox/simulinktest/core/simharness/simharness\n",
      "\t/usr/local/MATLAB/R2018b/toolbox/coder/objectives\n",
      "\t/usr/local/MATLAB/R2018b/toolbox/simulink/simdemos/automotive/powerwindow\n",
      "\t/usr/local/MATLAB/R2018b/toolbox/coder/simulinkcoder_app/code_perspective\n",
      "\t/usr/local/MATLAB/R2018b/toolbox/simulink/diagram/mi/m\n",
      "\t/usr/local/MATLAB/R2018b/toolbox/simulink/simdemos/aerospace\n",
      "\t/usr/local/MATLAB/R2018b/toolbox/simulink/ui/sysdoc/core\n",
      "\t/usr/local/MATLAB/R2018b/toolbox/rtw/accel\n",
      "\t/usr/local/MATLAB/R2018b/toolbox/coder/simulinkcoder_core\n",
      "\t/usr/local/MATLAB/R2018b/toolbox/coder/simulinkcoder_core/templates\n",
      "\t/usr/local/MATLAB/R2018b/toolbox/simulink/sysarch/sysarch\n",
      "\t/usr/local/MATLAB/R2018b/toolbox/simulink/simulink/templates/product\n",
      "\t/usr/local/MATLAB/R2018b/toolbox/coder/simulinkcoder_app/report\n",
      "\t/usr/local/MATLAB/R2018b/toolbox/simulink/sdi\n",
      "\t/usr/local/MATLAB/R2018b/toolbox/simulink/simdemos/simgeneral\n",
      "\t/usr/local/MATLAB/R2018b/toolbox/simulink/simulink/frameedit\n",
      "\t/usr/local/MATLAB/R2018b/toolbox/simulink/blocks\n",
      "\t/usr/local/MATLAB/R2018b/toolbox/simulink/simulink/dataclasses\n",
      "\t/usr/local/MATLAB/R2018b/toolbox/simulink/simulink\n",
      "\t/usr/local/MATLAB/R2018b/toolbox/simulink/simulink/MPlayIO\n",
      "\t/usr/local/MATLAB/R2018b/toolbox/simulink/simulink/dataobjectwizard\n",
      "\t/usr/local/MATLAB/R2018b/toolbox/simulink/simulink/slresolve\n",
      "\t/usr/local/MATLAB/R2018b/toolbox/simulink/simulink/units\n",
      "\t/usr/local/MATLAB/R2018b/toolbox/simulink/simulink/model_transformer\n",
      "\t/usr/local/MATLAB/R2018b/toolbox/simulink/simulink/clone_detection\n",
      "\t/usr/local/MATLAB/R2018b/toolbox/simulink/simulink/sfuncheck\n",
      "\t/usr/local/MATLAB/R2018b/toolbox/simulink/simulink/string\n",
      "\t/usr/local/MATLAB/R2018b/toolbox/simulink/blocks/library\n",
      "\t/usr/local/MATLAB/R2018b/toolbox/simulink/blocks/library/simulinkcoder\n",
      "\t/usr/local/MATLAB/R2018b/toolbox/simulink/blocks/obsolete\n",
      "\t/usr/local/MATLAB/R2018b/toolbox/simulink/blocks/pid_Images\n",
      "\t/usr/local/MATLAB/R2018b/toolbox/simulink/engine_interface\n",
      "\t/usr/local/MATLAB/R2018b/toolbox/simulink/ui/studio/config/m\n",
      "\t/usr/local/MATLAB/R2018b/toolbox/simulink/slmanifest\n",
      "\t/usr/local/MATLAB/R2018b/toolbox/simulink/simdemos/automotive\n",
      "\t/usr/local/MATLAB/R2018b/toolbox/simulink/configset_model/configset\n",
      "\t/usr/local/MATLAB/R2018b/toolbox/simulink/configset_model/configset/derived\n",
      "\t/usr/local/MATLAB/R2018b/toolbox/slde/slde\n",
      "\t/usr/local/MATLAB/R2018b/toolbox/simulink/components\n",
      "\t/usr/local/MATLAB/R2018b/toolbox/simulink/dee\n",
      "\t/usr/local/MATLAB/R2018b/toolbox/simulink/webblocks/widgets/m\n",
      "\t/usr/local/MATLAB/R2018b/toolbox/simulinktest/core/testsequence/testsequence\n",
      "\t/usr/local/MATLAB/R2018b/toolbox/simulink/simulink/modeladvisor\n",
      "\t/usr/local/MATLAB/R2018b/toolbox/simulink/simulink/modeladvisor/fixpt\n",
      "\t/usr/local/MATLAB/R2018b/toolbox/simulink/simulink/modeladvisor/misra\n",
      "\t/usr/local/MATLAB/R2018b/toolbox/simulink/simulink/modeladvisor/security\n",
      "\t/usr/local/MATLAB/R2018b/toolbox/simulink/simulink/templates/core\n",
      "\t/usr/local/MATLAB/R2018b/toolbox/simulink/ui/library_browser/core/m\n",
      "\t/usr/local/MATLAB/R2018b/toolbox/simulink/hmi\n",
      "\t/usr/local/MATLAB/R2018b/toolbox/simulink/hmi/customwebblocks/m\n",
      "\t/usr/local/MATLAB/R2018b/toolbox/simulink/simdemos/dataclasses\n",
      "\t/usr/local/MATLAB/R2018b/toolbox/simulink/simdemos\n",
      "\t/usr/local/MATLAB/R2018b/toolbox/simulink/simdemos/automotive/fuelsys\n",
      "\t/usr/local/MATLAB/R2018b/toolbox/simulink/sldependency\n",
      "\t/usr/local/MATLAB/R2018b/toolbox/stateflow/ui/studio/config/m\n",
      "\t/usr/local/MATLAB/R2018b/toolbox/stateflow/stateflow\n",
      "\t/usr/local/MATLAB/R2018b/toolbox/stateflow/coder\n",
      "\t/usr/local/MATLAB/R2018b/toolbox/stateflow/sfdemos\n",
      "\t/usr/local/MATLAB/R2018b/toolbox/shared/tracking/trackinglib\n",
      "\t/usr/local/MATLAB/R2018b/toolbox/shared/tracking/trackinglib/blocks\n",
      "\t/usr/local/MATLAB/R2018b/toolbox/shared/cosimservice/ddg\n",
      "\t/usr/local/MATLAB/R2018b/toolbox/simulink/simulink/iodata/iomap\n",
      "\t/usr/local/MATLAB/R2018b/toolbox/shared/slci/slci\n",
      "\t/usr/local/MATLAB/R2018b/toolbox/shared/spcuilib/logicanalyzer\n",
      "\t/usr/local/MATLAB/R2018b/toolbox/matlab/configtools\n",
      "\t/usr/local/MATLAB/R2018b/examples/phased\n",
      "\t/usr/local/MATLAB/R2018b/toolbox/matlab/connector2/file\n",
      "\t/usr/local/MATLAB/R2018b/toolbox/shared/hdlshared\n",
      "\t/usr/local/MATLAB/R2018b/toolbox/signal/signalanalyzer\n",
      "\t/usr/local/MATLAB/R2018b/toolbox/shared/spreadsheet\n",
      "\t/usr/local/MATLAB/R2018b/toolbox/shared/sl_web_widgets\n",
      "\t/usr/local/MATLAB/R2018b/toolbox/shared/system/sfun\n",
      "\t/usr/local/MATLAB/R2018b/toolbox/shared/imageslib\n"
     ]
    },
    {
     "name": "stdout",
     "output_type": "stream",
     "text": [
      "\t/usr/local/MATLAB/R2018b/toolbox/coder/coverage\n",
      "\t/usr/local/MATLAB/R2018b/examples/matlab\n",
      "\t/usr/local/MATLAB/R2018b/toolbox/rtw/targets/AUTOSAR/AUTOSAR/dataclasses\n",
      "\t/usr/local/MATLAB/R2018b/toolbox/rtw/targets/AUTOSAR/AUTOSAR\n",
      "\t/usr/local/MATLAB/R2018b/toolbox/matlab/resources_folder\n",
      "\t/usr/local/MATLAB/R2018b/toolbox/matlab/connector2/academy\n",
      "\t/usr/local/MATLAB/R2018b/toolbox/matlab/connector2/editor\n",
      "\t/usr/local/MATLAB/R2018b/toolbox/matlab/connector2/messageservice\n",
      "\t/usr/local/MATLAB/R2018b/toolbox/shared/dsp/float2fixed\n",
      "\t/usr/local/MATLAB/R2018b/toolbox/symbolic/symbolic\n",
      "\t/usr/local/MATLAB/R2018b/toolbox/shared/sl_multicore/dfs\n",
      "\t/usr/local/MATLAB/R2018b/toolbox/matlab/connector2/interpreter\n",
      "\t/usr/local/MATLAB/R2018b/toolbox/clone_detection_app/m\n",
      "\t/usr/local/MATLAB/R2018b/toolbox/shared/slpir\n",
      "\t/usr/local/MATLAB/R2018b/toolbox/shared/sl_async_streaming\n",
      "\t/usr/local/MATLAB/R2018b/toolbox/shared/fusion/utils\n",
      "\t/usr/local/MATLAB/R2018b/toolbox/hdlcoder/hdllib/sl_lib\n",
      "\t/usr/local/MATLAB/R2018b/toolbox/dsp/filterdesign\n",
      "\t/usr/local/MATLAB/R2018b/toolbox/shared/reqmgt\n",
      "\t/usr/local/MATLAB/R2018b/toolbox/shared/reqmgt/mmutils\n",
      "\t/usr/local/MATLAB/R2018b/toolbox/matlab/appdesigner/appdesigner/runtime\n",
      "\t/usr/local/MATLAB/R2018b/toolbox/shared/dsp/scopes\n",
      "\t/usr/local/MATLAB/R2018b/toolbox/shared/dastudio/dpvu/dpvu\n",
      "\t/usr/local/MATLAB/R2018b/toolbox/shared/dastudio/dpvu/dpvu/metamodel\n",
      "\t/usr/local/MATLAB/R2018b/toolbox/shared/dastudio/dpvu/dpvu/actions\n",
      "\t/usr/local/MATLAB/R2018b/help/toolbox/slcontrol/examples\n",
      "\t/usr/local/MATLAB/R2018b/toolbox/shared/maputils\n",
      "\t/usr/local/MATLAB/R2018b/toolbox/shared/sigbldr\n",
      "\t/usr/local/MATLAB/R2018b/toolbox/fixedpoint/ui/nedVisuals\n",
      "\t/usr/local/MATLAB/R2018b/toolbox/simulink/sta/repository\n",
      "\t/usr/local/MATLAB/R2018b/toolbox/simulink/sta/repository/util\n",
      "\t/usr/local/MATLAB/R2018b/examples/control\n",
      "\t/usr/local/MATLAB/R2018b/toolbox/shared/polyspace\n",
      "\t/usr/local/MATLAB/R2018b/toolbox/shared/simulink/sysarch/sysarch\n",
      "\t/usr/local/MATLAB/R2018b/examples/predmaint\n",
      "\t/usr/local/MATLAB/R2018b/toolbox/coder/profile\n",
      "\t/usr/local/MATLAB/R2018b/toolbox/matlab/external/interfaces/webservices/http\n",
      "\t/usr/local/MATLAB/R2018b/toolbox/shared/deviceplugindetection\n",
      "\t/usr/local/MATLAB/R2018b/toolbox/shared/fmu_block\n",
      "\t/usr/local/MATLAB/R2018b/toolbox/simulink/slexportprevious\n",
      "\t/usr/local/MATLAB/R2018b/toolbox/matlab/connector2/microservices\n",
      "\t/usr/local/MATLAB/R2018b/toolbox/shared/optimlib\n",
      "\t/usr/local/MATLAB/R2018b/toolbox/shared/mlreportgen/rpt\n",
      "\t/usr/local/MATLAB/R2018b/toolbox/shared/mlreportgen/rpt/rpt\n",
      "\t/usr/local/MATLAB/R2018b/toolbox/shared/hwconnectinstaller/common\n",
      "\t/usr/local/MATLAB/R2018b/toolbox/simulink/mask/iconeditor\n",
      "\t/usr/local/MATLAB/R2018b/toolbox/matlab/system/editor\n",
      "\t/usr/local/MATLAB/R2018b/toolbox/hdlcoder/hdllib/ml_lib\n",
      "\t/usr/local/MATLAB/R2018b/toolbox/shared/hwmanager/logger\n",
      "\t/usr/local/MATLAB/R2018b/toolbox/matlab/external/interfaces/python\n",
      "\t/usr/local/MATLAB/R2018b/examples/stats\n",
      "\t/usr/local/MATLAB/R2018b/toolbox/matlab/connector2/http\n",
      "\t/usr/local/MATLAB/R2018b/toolbox/dsp/dspdemos\n",
      "\t/usr/local/MATLAB/R2018b/toolbox/matlab/audiovideo\n",
      "\t/usr/local/MATLAB/R2018b/toolbox/matlab/imagesci\n",
      "\t/usr/local/MATLAB/R2018b/toolbox/shared/rptgen\n",
      "\t/usr/local/MATLAB/R2018b/toolbox/shared/slcc/slcc\n",
      "\t/usr/local/MATLAB/R2018b/toolbox/realtime\n",
      "\t/usr/local/MATLAB/R2018b/toolbox/realtime/realtime\n",
      "\t/usr/local/MATLAB/R2018b/toolbox/realtime/realtime/rtw\n",
      "\t/usr/local/MATLAB/R2018b/toolbox/shared/testmeaslib/graphics\n",
      "\t/usr/local/MATLAB/R2018b/toolbox/signal/signal\n",
      "\t/usr/local/MATLAB/R2018b/toolbox/signal/sigtools\n",
      "\t/usr/local/MATLAB/R2018b/toolbox/signal/sptoolgui\n",
      "\t/usr/local/MATLAB/R2018b/toolbox/matlab/datatools/peermodel_mcos/matlab\n",
      "\t/usr/local/MATLAB/R2018b/toolbox/simulink/sta/sourceBlocks\n",
      "\t/usr/local/MATLAB/R2018b/toolbox/matlab/connector2/common\n",
      "\t/usr/local/MATLAB/R2018b/toolbox/sl_pir_cap\n",
      "\t/usr/local/MATLAB/R2018b/toolbox/shared/dsp/simulink/dsp\n",
      "\t/usr/local/MATLAB/R2018b/examples/stats_featured\n",
      "\t/usr/local/MATLAB/R2018b/examples/dsp\n",
      "\t/usr/local/MATLAB/R2018b/toolbox/optim/problemdef\n",
      "\t/usr/local/MATLAB/R2018b/toolbox/shared/hwmanager/hwconnection\n",
      "\t/usr/local/MATLAB/R2018b/toolbox/shared/controllib/general\n",
      "\t/usr/local/MATLAB/R2018b/toolbox/simulink/blocks/sb2sl\n",
      "\t/usr/local/MATLAB/R2018b/toolbox/shared/networklib\n",
      "\t/usr/local/MATLAB/R2018b/toolbox/shared/hdlshared/hdlshared_soc\n",
      "\t/usr/local/MATLAB/R2018b/toolbox/shared/simulation_data_repository\n",
      "\t/usr/local/MATLAB/R2018b/toolbox/shared/supportsoftware/launcher\n",
      "\t/usr/local/MATLAB/R2018b/toolbox/shared/supportsoftware/services\n",
      "\t/usr/local/MATLAB/R2018b/toolbox/shared/supportsoftware/upgrade\n",
      "\t/usr/local/MATLAB/R2018b/toolbox/coder/rtiostream\n",
      "\t/usr/local/MATLAB/R2018b/toolbox/matlab/external/interfaces/webservices/wsdl\n",
      "\t/usr/local/MATLAB/R2018b/toolbox/matlab/addon_enable_disable_management/matlab\n",
      "\t/usr/local/MATLAB/R2018b/toolbox/shared/spcuilib/webscopes\n",
      "\t/usr/local/MATLAB/R2018b/toolbox/shared/appdes/services\n",
      "\t/usr/local/MATLAB/R2018b/toolbox/coder/foundation/passmanager\n",
      "\t/usr/local/MATLAB/R2018b/toolbox/simulink/fixedandfloat\n",
      "\t/usr/local/MATLAB/R2018b/toolbox/simulink/fixedandfloat/obsolete\n",
      "\t/usr/local/MATLAB/R2018b/toolbox/matlab/connector2/restmatlab\n",
      "\t/usr/local/MATLAB/R2018b/toolbox/shared/hotpluglib\n",
      "\t/usr/local/MATLAB/R2018b/toolbox/sl3d/sl3ddemos\n",
      "\t/usr/local/MATLAB/R2018b/toolbox/shared/sl_coverage_configset\n",
      "\t/usr/local/MATLAB/R2018b/toolbox/optim/optim\n",
      "\t/usr/local/MATLAB/R2018b/toolbox/optim\n",
      "\t/usr/local/MATLAB/R2018b/toolbox/matlab/datatools/importtool/matlab/server\n",
      "\t/usr/local/MATLAB/R2018b/toolbox/shared/mlreportgen/dom\n",
      "\t/usr/local/MATLAB/R2018b/toolbox/shared/mlreportgen/dom/dom\n",
      "\t/usr/local/MATLAB/R2018b/toolbox/shared/mlreportgen/dom/dom/help\n",
      "\t/usr/local/MATLAB/R2018b/toolbox/coder/emlcodermex\n",
      "\t/usr/local/MATLAB/R2018b/toolbox/fixedpoint/fixedpoint\n",
      "\t/usr/local/MATLAB/R2018b/toolbox/shared/system/coreblocks\n",
      "\t/usr/local/MATLAB/R2018b/toolbox/matlab/connector2/logger\n",
      "\t/usr/local/MATLAB/R2018b/toolbox/matlab/external/interfaces/json\n",
      "\t/usr/local/MATLAB/R2018b/toolbox/shared/imageio\n",
      "\t/usr/local/MATLAB/R2018b/toolbox/sltp/m\n",
      "\t/usr/local/MATLAB/R2018b/toolbox/fixedpoint/ui/nedFunctionApproximationTool\n",
      "\t/usr/local/MATLAB/R2018b/toolbox/instrument/instrument\n",
      "\t/usr/local/MATLAB/R2018b/toolbox/instrument/instrumentblks/instrumentblks\n",
      "\t/usr/local/MATLAB/R2018b/toolbox/instrument/instrumentblks/instrumentmex\n",
      "\t/usr/local/MATLAB/R2018b/toolbox/instrument/instrumentblks/instrumentmasks\n",
      "\t/usr/local/MATLAB/R2018b/examples/sldo\n",
      "\t/usr/local/MATLAB/R2018b/examples/fuelsys_shared\n",
      "\t/usr/local/MATLAB/R2018b/toolbox/matlab/connector2/mgg\n",
      "\t/usr/local/MATLAB/R2018b/toolbox/signal/sigdemos\n",
      "\t/usr/local/MATLAB/R2018b/toolbox/matlab/appdesigner/appdesigner\n",
      "\t/usr/local/MATLAB/R2018b/toolbox/shared/asynciolib\n",
      "\t/usr/local/MATLAB/R2018b/toolbox/dsp/dsp\n",
      "\t/usr/local/MATLAB/R2018b/toolbox/dsp/dsputilities\n",
      "\t/usr/local/MATLAB/R2018b/toolbox/dsp/dsputilities/dspinit\n",
      "\t/usr/local/MATLAB/R2018b/toolbox/dsp/dsputilities/dspmex\n",
      "\t/usr/local/MATLAB/R2018b/toolbox/dsp/dsp/compiled\n",
      "\t/usr/local/MATLAB/R2018b/examples/graphics2\n",
      "\t/usr/local/MATLAB/R2018b/toolbox/images/imdemos\n",
      "\t/usr/local/MATLAB/R2018b/toolbox/shared/mlearnlib\n",
      "\t/usr/local/MATLAB/R2018b/toolbox/shared/sl_messages\n",
      "\t/usr/local/MATLAB/R2018b/toolbox/shared/m3i\n",
      "\t/usr/local/MATLAB/R2018b/toolbox/batchsim\n",
      "\t/usr/local/MATLAB/R2018b/toolbox/matlab/reports\n",
      "\t/usr/local/MATLAB/R2018b/toolbox/shared/slreportgen/reportexplorer\n",
      "\t/usr/local/MATLAB/R2018b/toolbox/eml/eml\n",
      "\t/usr/local/MATLAB/R2018b/toolbox/shared/hwconnectinstaller\n",
      "\t/usr/local/MATLAB/R2018b/toolbox/matlab/appcontainer/appcontainer\n",
      "\t/usr/local/MATLAB/R2018b/toolbox/shared/dataflow\n",
      "\t/usr/local/MATLAB/R2018b/toolbox/shared/dataflow/dataflowmex/dataflow_mex\n",
      "\t/usr/local/MATLAB/R2018b/toolbox/stats/mlearnapp\n",
      "\t/usr/local/MATLAB/R2018b/examples/images\n",
      "\t/usr/local/MATLAB/R2018b/examples/control_featured\n",
      "\t/usr/local/MATLAB/R2018b/toolbox/simulink/sl_async_streaming\n",
      "\t/usr/local/MATLAB/R2018b/examples/coder_fixedpoint_simulink\n",
      "\t/usr/local/MATLAB/R2018b/toolbox/multisim\n",
      "\t/usr/local/MATLAB/R2018b/toolbox/shared/spcuilib/matrixviewer\n",
      "\t/usr/local/MATLAB/R2018b/toolbox/matlab/connector2/session\n",
      "\t/usr/local/MATLAB/R2018b/toolbox/fixpoint\n",
      "\t/usr/local/MATLAB/R2018b/toolbox/fixpoint/fpca\n",
      "\t/usr/local/MATLAB/R2018b/toolbox/fixpoint/fxptopo\n",
      "\t/usr/local/MATLAB/R2018b/toolbox/shared/advisor\n",
      "\t/usr/local/MATLAB/R2018b/toolbox/matlab/apps\n",
      "\t/usr/local/MATLAB/R2018b/toolbox/shared/spc/src_ml\n",
      "\t/usr/local/MATLAB/R2018b/toolbox/matlab/connector2/connector\n",
      "\t/usr/local/MATLAB/R2018b/toolbox/shared/simulink/slcheck_services\n",
      "\t/usr/local/MATLAB/R2018b/toolbox/matlab/addons\n",
      "\t/usr/local/MATLAB/R2018b/toolbox/matlab/addons/cef\n",
      "\t/usr/local/MATLAB/R2018b/toolbox/matlab/addons/supportpackages\n",
      "\t/usr/local/MATLAB/R2018b/toolbox/shared/controllib/estimation\n",
      "\t/usr/local/MATLAB/R2018b/toolbox/simulink/sta/derivedSignals\n",
      "\t/usr/local/MATLAB/R2018b/toolbox/simulink/sltemplate\n",
      "\t/usr/local/MATLAB/R2018b/toolbox/shared/siglib\n",
      "\t/usr/local/MATLAB/R2018b/toolbox/matlab/uicomponents/uicomponents\n",
      "\t/usr/local/MATLAB/R2018b/toolbox/matlab/uicomponents/uicomponents/graphics\n"
     ]
    },
    {
     "name": "stdout",
     "output_type": "stream",
     "text": [
      "\t/usr/local/MATLAB/R2018b/examples/instrument\n",
      "\t/usr/local/MATLAB/R2018b/toolbox/control/ctrldemos\n",
      "\t/usr/local/MATLAB/R2018b/toolbox/simulink/simulink/slproject/examples\n",
      "\t/usr/local/MATLAB/R2018b/toolbox/instrument/instrumentdemos\n",
      "\t/usr/local/MATLAB/R2018b/toolbox/shared/slreportgen/utils\n",
      "\t/usr/local/MATLAB/R2018b/examples/optim\n",
      "\t/usr/local/MATLAB/R2018b/toolbox/matlab/uicomponents/uicomponents/plugin/appdesigner\n",
      "\t/usr/local/MATLAB/R2018b/toolbox/coder/trace\n",
      "\t/usr/local/MATLAB/R2018b/toolbox/matlab/connector2/shadowfiles\n",
      "\t/usr/local/MATLAB/R2018b/toolbox/shared/dsp/hdl\n",
      "\t/usr/local/MATLAB/R2018b/toolbox/simulink/simulink/slproject\n",
      "\t/usr/local/MATLAB/R2018b/toolbox/simulink/simulink/slproject/menu\n",
      "\t/usr/local/MATLAB/R2018b/help/toolbox/dsp/examples\n",
      "\t/usr/local/MATLAB/R2018b/toolbox/matlab/webcam\n",
      "\t/usr/local/MATLAB/R2018b/toolbox/shared/sl_units_mldatx\n",
      "\t/usr/local/MATLAB/R2018b/toolbox/simulink/simulink/slproject/simulink\n",
      "\t/usr/local/MATLAB/R2018b/toolbox/shared/hwmanager/hwservices/hwinfo\n",
      "\t/usr/local/MATLAB/R2018b/toolbox/matlab/connector2/figures\n",
      "\t/usr/local/MATLAB/R2018b/examples/predmaint_shared\n",
      "\t/usr/local/MATLAB/R2018b/toolbox/slsim/design\n",
      "\t/usr/local/MATLAB/R2018b/examples/audio\n",
      "\t/usr/local/MATLAB/R2018b/toolbox/matlab/pathtool\n",
      "\t/usr/local/MATLAB/R2018b/help/toolbox/control/examples\n",
      "\t/usr/local/MATLAB/R2018b/toolbox/simulink/simulink/sltopo\n",
      "\t/usr/local/MATLAB/R2018b/toolbox/matlab/connector2/json\n",
      "\t/usr/local/MATLAB/R2018b/examples/ident_featured\n",
      "\t/usr/local/MATLAB/R2018b/toolbox/simulink/ui/sl_studio/sl_studio\n",
      "\t/usr/local/MATLAB/R2018b/toolbox/shared/slreportgen/rpt\n",
      "\t/usr/local/MATLAB/R2018b/toolbox/shared/slreportgen/rpt/rpt\n",
      "\t/usr/local/MATLAB/R2018b/toolbox/shared/controllib/engine\n",
      "\t/usr/local/MATLAB/R2018b/toolbox/shared/controllib/engine/numerics\n",
      "\t/usr/local/MATLAB/R2018b/toolbox/shared/controllib/engine/options\n",
      "\t/usr/local/MATLAB/R2018b/toolbox/shared/controllib/engine/optim\n",
      "\t/usr/local/MATLAB/R2018b/toolbox/shared/controllib/engine/blocks\n",
      "\t/usr/local/MATLAB/R2018b/toolbox/shared/mlreportgen/utils\n",
      "\t/usr/local/MATLAB/R2018b/examples/ident\n",
      "\t/usr/local/MATLAB/R2018b/toolbox/shared/cxxfe_mi/cxxfe_mi\n",
      "\t/usr/local/MATLAB/R2018b/toolbox/sldv/sldv\n",
      "\t/usr/local/MATLAB/R2018b/toolbox/shared/virtualfileio\n",
      "\t/usr/local/MATLAB/R2018b/toolbox/shared/dsp/dialog\n",
      "\t/usr/local/MATLAB/R2018b/toolbox/rptgenext/slxmlcomp\n",
      "\t/usr/local/MATLAB/R2018b/toolbox/simulink/sl_graphics_services/tools\n",
      "\t/usr/local/MATLAB/R2018b/toolbox/dsp/templates\n",
      "\t/usr/local/MATLAB/R2018b/toolbox/shared/testmeaslib/general\n",
      "\t/usr/local/MATLAB/R2018b/toolbox/shared/filterdesignlib\n",
      "\t/usr/local/MATLAB/R2018b/toolbox/shared/filterdesignlib/filterbuilder\n",
      "\t/usr/local/MATLAB/R2018b/toolbox/matlab/timeseries\n",
      "\t/usr/local/MATLAB/R2018b/toolbox/shared/configset_view/m\n",
      "\t/usr/local/MATLAB/R2018b/examples/comm\n",
      "\t/usr/local/MATLAB/R2018b/toolbox/slcontrol/slctrldemos\n",
      "\t/usr/local/MATLAB/R2018b/toolbox/slcontrol/slcontrol\n",
      "\t/usr/local/MATLAB/R2018b/toolbox/slcontrol/slctrlguis\n",
      "\t/usr/local/MATLAB/R2018b/toolbox/slcontrol/slctrlutil\n",
      "\t/usr/local/MATLAB/R2018b/toolbox/slcontrol/slctrlobsolete\n",
      "\t/usr/local/MATLAB/R2018b/toolbox/shared/controllib/graphics\n",
      "\t/usr/local/MATLAB/R2018b/toolbox/shared/controllib/graphics/utils\n",
      "\t/usr/local/MATLAB/R2018b/toolbox/shared/controllib/graphics/plotoptions\n",
      "\t/usr/local/MATLAB/R2018b/toolbox/coder/coder\n",
      "\t/usr/local/MATLAB/R2018b/toolbox/shared/measure\n",
      "\t/usr/local/MATLAB/R2018b/toolbox/matlab/findfiles\n",
      "\t/usr/local/MATLAB/R2018b/toolbox/shared/seriallib\n",
      "\t/usr/local/MATLAB/R2018b/toolbox/shared/spcuilib/unifiedscopes\n",
      "\t/usr/local/MATLAB/R2018b/toolbox/shared/dsp/webscopes\n",
      "\t/usr/local/MATLAB/R2018b/toolbox/matlab/mex\n",
      "\t/usr/local/MATLAB/R2018b/toolbox/stats/distributed\n",
      "\t/usr/local/MATLAB/R2018b/toolbox/shared/sldv_cc/sldv_cc\n",
      "\t/usr/local/MATLAB/R2018b/toolbox/shared/supportpkgservices/legacysupportpkginfo\n",
      "\t/usr/local/MATLAB/R2018b/toolbox/shared/supportpkgservices/installservices\n",
      "\t/usr/local/MATLAB/R2018b/toolbox/shared/supportpkgservices/supportpackageroot\n",
      "\t/usr/local/MATLAB/R2018b/toolbox/shared/supportpkgservices/installedapi\n",
      "\t/usr/local/MATLAB/R2018b/toolbox/matlab/datatools/plotstab/matlab\n",
      "\t/usr/local/MATLAB/R2018b/toolbox/shared/diagnostic\n",
      "\t/usr/local/MATLAB/R2018b/examples/coder_compiler_dsp\n",
      "\t/usr/local/MATLAB/R2018b/toolbox/matlab/uitools/uicomponents/components\n",
      "\t/usr/local/MATLAB/R2018b/toolbox/shared/hadoopserializer\n",
      "\t/usr/local/MATLAB/R2018b/toolbox/shared/dspblks/dspblks\n",
      "\t/usr/local/MATLAB/R2018b/toolbox/shared/dspblks/dspmex\n",
      "\t/usr/local/MATLAB/R2018b/toolbox/simulink/simulink_data_dictionary/sldd\n",
      "\t/usr/local/MATLAB/R2018b/toolbox/coder/xcp\n",
      "\t/usr/local/MATLAB/R2018b/toolbox/rptgenext/rptgenextdemos/slxmlcomp\n",
      "\t/usr/local/MATLAB/R2018b/toolbox/rtw/rtw\n",
      "\t/usr/local/MATLAB/R2018b/toolbox/coder/foundation\n",
      "\t/usr/local/MATLAB/R2018b/toolbox/coder/foundation/build\n",
      "\t/usr/local/MATLAB/R2018b/toolbox/coder/foundation/build/tools/registry\n",
      "\t/usr/local/MATLAB/R2018b/toolbox/coder/foundation/tfl\n",
      "\t/usr/local/MATLAB/R2018b/toolbox/coder/foundation/tfl/AUTOSAR/AUTOSAR4p0/IFX\n",
      "\t/usr/local/MATLAB/R2018b/toolbox/coder/foundation/tfl/AUTOSAR/AUTOSAR4p0/IFL\n",
      "\t/usr/local/MATLAB/R2018b/toolbox/coder/foundation/tfl/gui\n",
      "\t/usr/local/MATLAB/R2018b/toolbox/coder/foundation/templates\n",
      "\t/usr/local/MATLAB/R2018b/toolbox/shared/simtargets\n",
      "\t/usr/local/MATLAB/R2018b/toolbox/shared/instrument\n",
      "\t/usr/local/MATLAB/R2018b/toolbox/dsp/dsphdl\n",
      "\t/usr/local/MATLAB/R2018b/toolbox/dsp/dsphdl/compiled\n",
      "\t/usr/local/MATLAB/R2018b/toolbox/dsp/dsphdl/dsputilities\n",
      "\t/usr/local/MATLAB/R2018b/toolbox/shared/controllib/requirements\n",
      "\t/usr/local/MATLAB/R2018b/toolbox/fixedpoint/fidemos\n",
      "\t/usr/local/MATLAB/R2018b/examples/symbolic\n",
      "\t/usr/local/MATLAB/R2018b/toolbox/shared/cgxe/cgxe\n",
      "\t/usr/local/MATLAB/R2018b/toolbox/shared/sdi_visuals\n",
      "\t/usr/local/MATLAB/R2018b/toolbox/shared/signalwavelet/signalwavelet\n",
      "\t/usr/local/MATLAB/R2018b/toolbox/shared/hwmanager/hwmanagerapp\n",
      "\t/usr/local/MATLAB/R2018b/toolbox/shared/hwmanager/hwmanagerapp/devices\n",
      "\t/usr/local/MATLAB/R2018b/toolbox/shared/hwmanager/hwmanagerapp/providers\n",
      "\t/usr/local/MATLAB/R2018b/toolbox/shared/hwmanager/hwmanagerapp/plugins\n",
      "\t/usr/local/MATLAB/R2018b/toolbox/shared/hwmanager/hwmanagerapp/framework\n",
      "\t/usr/local/MATLAB/R2018b/toolbox/shared/hwmanager/hwmanagerapp/framework/modules\n",
      "\t/usr/local/MATLAB/R2018b/toolbox/shared/hwmanager/hwmanagerapp/hwsetup\n",
      "\t/usr/local/MATLAB/R2018b/examples/matlab_featured\n",
      "\t/usr/local/MATLAB/R2018b/toolbox/matlab/connector2/nativebridge\n",
      "\t/usr/local/MATLAB/R2018b/toolbox/coder/cpptools\n",
      "\t/usr/local/MATLAB/R2018b/examples/hdlfilter\n",
      "\t/usr/local/MATLAB/R2018b/toolbox/shared/slcontrollib\n",
      "\t/usr/local/MATLAB/R2018b/toolbox/matlab/filebrowser\n",
      "\t/usr/local/MATLAB/R2018b/toolbox/matlab/addons_product\n",
      "\t/usr/local/MATLAB/R2018b/toolbox/rptgen/xmlcomp\n",
      "\t/usr/local/MATLAB/R2018b/toolbox/stats/gpu\n",
      "\t/usr/local/MATLAB/R2018b/toolbox/shared/io\n",
      "\t/usr/local/MATLAB/R2018b/toolbox/coder/connectivity\n",
      "\t/usr/local/MATLAB/R2018b/toolbox/rtw/targets/connectivity\n",
      "\t/usr/local/MATLAB/R2018b/toolbox/shared/dsp/vision/matlab/utilities\n",
      "\t/usr/local/MATLAB/R2018b/toolbox/shared/dsp/vision/simulink/utilities\n",
      "\t/usr/local/MATLAB/R2018b/toolbox/shared/dsp/vision/matlab/utilities/mex\n",
      "\t/usr/local/MATLAB/R2018b/toolbox/shared/dsp/vision/simulink/utilities/mex\n",
      "\t/usr/local/MATLAB/R2018b/toolbox/shared/dsp/vision/matlab/utilities/init\n",
      "\t/usr/local/MATLAB/R2018b/toolbox/shared/dsp/vision/matlab/vision\n",
      "\t/usr/local/MATLAB/R2018b/toolbox/shared/dsp/vision/simulink/vision\n",
      "\t/usr/local/MATLAB/R2018b/toolbox/signal/signalanalyzereng\n",
      "\t/usr/local/MATLAB/R2018b/toolbox/matlab/datatools/inspector/matlab\n",
      "\t/usr/local/MATLAB/R2018b/toolbox/matlab/datatools/datatoolsservices/matlab\n",
      "\t/usr/local/MATLAB/R2018b/toolbox/shared/slcc_cov/slcc_cov\n",
      "\t/usr/local/MATLAB/R2018b/toolbox/simulink/libcodegen_harness/libcodegen_harness\n",
      "\t/usr/local/MATLAB/R2018b/toolbox/matlab/networklib\n",
      "\t/usr/local/MATLAB/R2018b/toolbox/target/codertarget\n",
      "\t/usr/local/MATLAB/R2018b/toolbox/target/codertarget/rtw\n",
      "\t/usr/local/MATLAB/R2018b/toolbox/target/codertarget/matlabcoder\n",
      "\t/usr/local/MATLAB/R2018b/toolbox/idelink/foundation\n",
      "\t/usr/local/MATLAB/R2018b/toolbox/idelink/foundation/util\n",
      "\t/usr/local/MATLAB/R2018b/toolbox/idelink/foundation/errorhandler\n",
      "\t/usr/local/MATLAB/R2018b/toolbox/idelink/foundation/xmakefile\n",
      "\t/usr/local/MATLAB/R2018b/toolbox/idelink/foundation/hookpoints\n",
      "\t/usr/local/MATLAB/R2018b/toolbox/hdlcoder/hdlslrt\n"
     ]
    },
    {
     "name": "stdout",
     "output_type": "stream",
     "text": [
      "\t/usr/local/MATLAB/R2018b/toolbox/shared/system/coder\n",
      "\t/usr/local/MATLAB/R2018b/toolbox/simulink/compiled_model_interface\n",
      "\t/usr/local/MATLAB/R2018b/toolbox/matlab/supportpackagemanagement\n",
      "\t/usr/local/MATLAB/R2018b/toolbox/matlab/storage/mldrivedesktop\n",
      "\t/usr/local/MATLAB/R2018b/toolbox/simulink/simulink/iodata/ioformat\n",
      "\t/usr/local/MATLAB/R2018b/toolbox/shared/dastudio\n",
      "\t/usr/local/MATLAB/R2018b/toolbox/matlab/external/interfaces/webservices/restful\n",
      "\t/usr/local/MATLAB/R2018b/toolbox/matlab/external/interfaces/webservices\n",
      "\t/usr/local/MATLAB/R2018b/toolbox/stats/statsdemos\n",
      "\t/usr/local/MATLAB/R2018b/toolbox/simulink/slhistory\n",
      "\t/usr/local/MATLAB/R2018b/toolbox/shared/dsp/visionhdl/simulink/dsp\n",
      "\t/usr/local/MATLAB/R2018b/toolbox/shared/slvnv\n",
      "\t/usr/local/MATLAB/R2018b/toolbox/simulink/simulink/slproject/templates\n",
      "\t/usr/local/MATLAB/R2018b/toolbox/shared/comparisons\n",
      "\t/usr/local/MATLAB/R2018b/examples/simulink\n",
      "\t/usr/local/MATLAB/R2018b/examples/signal\n",
      "\t/usr/local/MATLAB/R2018b/examples/slcontrol\n",
      "\t/usr/local/MATLAB/R2018b/toolbox/optim/optimdemos\n",
      "\t/usr/local/MATLAB/R2018b/toolbox/slcoverage\n",
      "\t/usr/local/MATLAB/R2018b/toolbox/images/colorspaces\n",
      "\t/usr/local/MATLAB/R2018b/toolbox/images/images\n",
      "\t/usr/local/MATLAB/R2018b/toolbox/images/imdata\n",
      "\t/usr/local/MATLAB/R2018b/toolbox/images/imuitools\n",
      "\t/usr/local/MATLAB/R2018b/toolbox/images/iptformats\n",
      "\t/usr/local/MATLAB/R2018b/toolbox/images/iptutils\n",
      "\t/usr/local/MATLAB/R2018b/toolbox/simulink/simulink/upgradeadvisor\n",
      "\t/usr/local/MATLAB/R2018b/toolbox/simulink/sta/scenarioconnector\n",
      "\t/usr/local/MATLAB/R2018b/toolbox/simulink/sta/scenarioconnector/ui\n",
      "\t/usr/local/MATLAB/R2018b/toolbox/simulink/sta/scenarioconnector/ui/toolstrip/modelsection\n",
      "\t/usr/local/MATLAB/R2018b/toolbox/simulink/sta/scenarioconnector/ui/toolstrip/filesection\n",
      "\t/usr/local/MATLAB/R2018b/toolbox/simulink/sta/editor\n",
      "\t/usr/local/MATLAB/R2018b/toolbox/simulink/sta/editor/ui\n",
      "\t/usr/local/MATLAB/R2018b/toolbox/simulink/sta/ui\n",
      "\t/usr/local/MATLAB/R2018b/toolbox/simulink/sta/ui/comparisontool\n",
      "\t/usr/local/MATLAB/R2018b/toolbox/simulink/sta/ui/mapping\n",
      "\t/usr/local/MATLAB/R2018b/toolbox/simulink/sta/ui/mapping/callbacks\n",
      "\t/usr/local/MATLAB/R2018b/toolbox/simulink/sta/ui/mapping/util\n",
      "\t/usr/local/MATLAB/R2018b/toolbox/simulink/sta/ui/toolstrip\n",
      "\t/usr/local/MATLAB/R2018b/toolbox/simulink/sta/ui/toolstrip/open/streaming\n",
      "\t/usr/local/MATLAB/R2018b/toolbox/simulink/sta/ui/toolstrip/help\n",
      "\t/usr/local/MATLAB/R2018b/toolbox/simulink/sta/ui/toolstrip/open\n",
      "\t/usr/local/MATLAB/R2018b/toolbox/simulink/sta/ui/toolstrip/session\n",
      "\t/usr/local/MATLAB/R2018b/toolbox/simulink/sta/ui/toolstrip/report\n",
      "\t/usr/local/MATLAB/R2018b/toolbox/simulink/sta/ui/preferences/mapper\n",
      "\t/usr/local/MATLAB/R2018b/examples/hdlcoder\n",
      "\t/usr/local/MATLAB/R2018b/toolbox/shared/hdlshared/hdlshared_gui\n",
      "\t/usr/local/MATLAB/R2018b/toolbox/simulink/sta/sl_sta_editor_block\n",
      "\t/usr/local/MATLAB/R2018b/toolbox/shared/transportlib\n",
      "\t/usr/local/MATLAB/R2018b/toolbox/matlab/datatools/workspacebrowser/matlab\n",
      "\t/usr/local/MATLAB/R2018b/toolbox/matlab/connector2/visualization\n",
      "\t/usr/local/MATLAB/R2018b/toolbox/shared/sldv\n",
      "\t/usr/local/MATLAB/R2018b/toolbox/shared/testmeaslib/simulink\n",
      "\t/usr/local/MATLAB/R2018b/toolbox/shared/statslib\n",
      "\t/usr/local/MATLAB/R2018b/toolbox/shared/statslib/sensitivity\n",
      "\t/usr/local/MATLAB/R2018b/toolbox/shared/mlreportgen/ppt\n",
      "\t/usr/local/MATLAB/R2018b/toolbox/shared/mlreportgen/ppt/ppt\n",
      "\t/usr/local/MATLAB/R2018b/toolbox/shared/mlreportgen/ppt/ppt/help\n",
      "\t/usr/local/MATLAB/R2018b/toolbox/matlab/cefclient\n",
      "\t/usr/local/MATLAB/R2018b/toolbox/matlab/connector2/configuration\n",
      "\t/usr/local/MATLAB/R2018b/toolbox/shared/dastudio/seqdiagram\n",
      "\t/usr/local/MATLAB/R2018b/toolbox/matlab/connector2/framework\n",
      "\t/usr/local/MATLAB/R2018b/toolbox/fixedpoint/fixedpointtool\n",
      "\t/usr/local/MATLAB/R2018b/toolbox/shared/multimedia\n",
      "\t/usr/local/MATLAB/R2018b/toolbox/target/codertarget/sltoolstrip/m\n",
      "\t/usr/local/MATLAB/R2018b/toolbox/simulink/simulink/performance\n",
      "\t/usr/local/MATLAB/R2018b/toolbox/simulink/simulink/performance/performancea\n",
      "\t/usr/local/MATLAB/R2018b/toolbox/dig/dig\n",
      "\t/usr/local/MATLAB/R2018b/toolbox/stats/bayesoptim\n",
      "\t/usr/local/MATLAB/R2018b/toolbox/stats/bigdata\n",
      "\t/usr/local/MATLAB/R2018b/toolbox/stats/classreg\n",
      "\t/usr/local/MATLAB/R2018b/toolbox/stats/clustering\n",
      "\t/usr/local/MATLAB/R2018b/toolbox/stats/featlearn\n",
      "\t/usr/local/MATLAB/R2018b/toolbox/stats/stats\n",
      "\t/usr/local/MATLAB/R2018b/toolbox/matlab/appdesigner/appdesigner/interface\n",
      "\t/usr/local/MATLAB/R2018b/examples/controls_id\n",
      "\t/usr/local/MATLAB/R2018b/toolbox/coder/codedescriptor_core\n",
      "\t/usr/local/MATLAB/R2018b/toolbox/shared/hwmanager/hwsetup\n",
      "\t/usr/local/MATLAB/R2018b/toolbox/shared/hwmanager/hwsetup/hwwidgets\n",
      "\t/usr/local/MATLAB/R2018b/toolbox/shared/hwmanager/hwsetup/hwtemplates\n",
      "\t/usr/local/MATLAB/R2018b/toolbox/shared/hwmanager/hwsetup/launch\n",
      "\t/usr/local/MATLAB/R2018b/toolbox/shared/mldatx\n",
      "\t/usr/local/MATLAB/R2018b/toolbox/shared/codeinstrum/codeinstrum\n",
      "\t/usr/local/MATLAB/R2018b/toolbox/shared/coder/coder\n",
      "\t/usr/local/MATLAB/R2018b/toolbox/matlab/toolboxmanagement/matlab_api\n",
      "\t/usr/local/MATLAB/R2018b/toolbox/shared/spcuilib/slscopes\n",
      "\t/usr/local/MATLAB/R2018b/toolbox/shared/sdi\n",
      "\t/usr/local/MATLAB/R2018b/examples/deeplearning_shared\n",
      "\t/usr/local/MATLAB/R2018b/toolbox/matlab/external/engines/engine_api\n",
      "\t/usr/local/MATLAB/R2018b/toolbox/hdlcoder/hdlcommon\n",
      "\t/usr/local/MATLAB/R2018b/toolbox/hdlcoder/hdlcommon/modelcheckeradvisor\n",
      "\t/usr/local/MATLAB/R2018b/toolbox/shared/cxxfe/parser_mi/parser_mi\n",
      "\t/usr/local/MATLAB/R2018b/toolbox/matlab/toolstrip\n",
      "\t/usr/local/MATLAB/R2018b/toolbox/matlab/datatools/importtool/matlab/peer\n",
      "\t/usr/local/MATLAB/R2018b/toolbox/matlab/connector2/worker\n",
      "\t/usr/local/MATLAB/R2018b/toolbox/sl3d/sl3d\n",
      "\t/usr/local/MATLAB/R2018b/toolbox/matlab/datatools/variableeditor/matlab\n",
      "\t/usr/local/MATLAB/R2018b/toolbox/shared/simulink\n",
      "\t/usr/local/MATLAB/R2018b/toolbox/symbolic/symbolicdemos\n",
      "\t/usr/local/MATLAB/R2018b/toolbox/control/control\n",
      "\t/usr/local/MATLAB/R2018b/toolbox/control/ctrlmodels\n",
      "\t/usr/local/MATLAB/R2018b/toolbox/control/ctrlanalysis\n",
      "\t/usr/local/MATLAB/R2018b/toolbox/control/ctrldesign\n",
      "\t/usr/local/MATLAB/R2018b/toolbox/control/ctrlplots\n",
      "\t/usr/local/MATLAB/R2018b/toolbox/control/ctrlguis\n",
      "\t/usr/local/MATLAB/R2018b/toolbox/control/ctrlobsolete\n",
      "\t/usr/local/MATLAB/R2018b/toolbox/control/ctrlutil\n",
      "\t/usr/local/MATLAB/R2018b/toolbox/matlab/toolbox_packaging\n",
      "\t/usr/local/MATLAB/R2018b/toolbox/shared/system/simulink\n",
      "\t/usr/local/MATLAB/R2018b/toolbox/shared/cmlink/api\n",
      "\t/usr/local/MATLAB/R2018b/examples/graphics\n",
      "\t/usr/local/MATLAB/R2018b/toolbox/shared/configset\n",
      "\t/usr/local/MATLAB/R2018b/toolbox/matlab/serial\n",
      "\t/usr/local/MATLAB/R2018b/toolbox/shared/cgir_fe\n",
      "\t/usr/local/MATLAB/R2018b/toolbox/matlab/system\n",
      "\t/usr/local/MATLAB/R2018b/toolbox/matlab/storage/matlabdrive\n"
     ]
    }
   ],
   "source": [
    "path()"
   ]
  },
  {
   "cell_type": "markdown",
   "metadata": {
    "slideshow": {
     "slide_type": "subslide"
    }
   },
   "source": [
    "Most of them are located in directories that normal users do not have a write-permission. But note that the very first result in within a user's directory. "
   ]
  },
  {
   "cell_type": "code",
   "execution_count": 3,
   "metadata": {
    "slideshow": {
     "slide_type": "-"
    }
   },
   "outputs": [
    {
     "name": "stdout",
     "output_type": "stream",
     "text": [
      "ans =\n",
      "    '/home/tae/Documents/MATLAB'\n"
     ]
    }
   ],
   "source": [
    "userpath()"
   ]
  },
  {
   "cell_type": "markdown",
   "metadata": {
    "slideshow": {
     "slide_type": "-"
    }
   },
   "source": [
    "This is where you can store general-purpose script or function m-files. "
   ]
  },
  {
   "cell_type": "markdown",
   "metadata": {
    "slideshow": {
     "slide_type": "slide"
    }
   },
   "source": [
    "## 2.1-5\n",
    "\n",
    "Use `format long g` for this problem.\n",
    "\n",
    " a) What is $27.9^{\\circ}$ in radians, and what is 13 radians in degrees? <br>\n",
    " f) Find the length of the base of the right triangle whose height is 144 and whose hypothenuse is 145. "
   ]
  },
  {
   "cell_type": "code",
   "execution_count": 4,
   "metadata": {
    "slideshow": {
     "slide_type": "-"
    }
   },
   "outputs": [],
   "source": [
    "format long g"
   ]
  },
  {
   "cell_type": "markdown",
   "metadata": {
    "slideshow": {
     "slide_type": "subslide"
    }
   },
   "source": [
    "### Solution\n",
    "\n",
    "**(a)** Since $180^{\\circ} = \\pi \\text{(rad)}$, we can convert an angle in one unit to the other by using the following conversion factors:"
   ]
  },
  {
   "cell_type": "code",
   "execution_count": 5,
   "metadata": {
    "slideshow": {
     "slide_type": "-"
    }
   },
   "outputs": [],
   "source": [
    "deg2rad = pi/180;\n",
    "rad2deg = 180/pi;"
   ]
  },
  {
   "cell_type": "markdown",
   "metadata": {
    "slideshow": {
     "slide_type": "subslide"
    }
   },
   "source": [
    "In particular, "
   ]
  },
  {
   "cell_type": "code",
   "execution_count": 6,
   "metadata": {
    "slideshow": {
     "slide_type": "-"
    }
   },
   "outputs": [
    {
     "name": "stdout",
     "output_type": "stream",
     "text": [
      "convert_deg =\n",
      "         0.486946861306418\n",
      "convert_rad =\n",
      "           744.84513367007\n"
     ]
    }
   ],
   "source": [
    "input_deg = 27.9;\n",
    "input_rad = 13;\n",
    "convert_deg = input_deg*deg2rad\n",
    "convert_rad = input_rad*rad2deg"
   ]
  },
  {
   "cell_type": "markdown",
   "metadata": {
    "slideshow": {
     "slide_type": "subslide"
    }
   },
   "source": [
    "In case you wanted to fomat it nicely, try something like:"
   ]
  },
  {
   "cell_type": "code",
   "execution_count": 7,
   "metadata": {
    "slideshow": {
     "slide_type": "-"
    }
   },
   "outputs": [
    {
     "name": "stdout",
     "output_type": "stream",
     "text": [
      "27.9 degrees is 0.48695 radians.\n",
      "13 radians is 744.8451 degrees.\n"
     ]
    }
   ],
   "source": [
    "disp([num2str(input_deg), ' degrees is ',...\n",
    "      num2str(convert_deg), ' radians.'])\n",
    "disp([num2str(input_rad), ' radians is ',...\n",
    "      num2str(convert_rad), ' degrees.'])"
   ]
  },
  {
   "cell_type": "markdown",
   "metadata": {
    "slideshow": {
     "slide_type": "subslide"
    }
   },
   "source": [
    "**(f)** Let \n",
    "\n",
    " - a = height\n",
    " - b = base\n",
    " - c = hypothenuse\n",
    "\n",
    "Then by the pythagorean theorem, we find that $b = \\sqrt{c^2 - a^2}$:"
   ]
  },
  {
   "cell_type": "code",
   "execution_count": null,
   "metadata": {
    "slideshow": {
     "slide_type": "-"
    }
   },
   "outputs": [],
   "source": [
    "hgt = 144;\n",
    "hyp = 145;\n",
    "base = sqrt(hyp^2 - hgt^2);\n",
    "disp(['Length of the base = ', num2str(base, 16)])    "
   ]
  },
  {
   "cell_type": "markdown",
   "metadata": {
    "slideshow": {
     "slide_type": "slide"
    }
   },
   "source": [
    "## 2.2-3\n",
    "\n",
    "a) Write a script which asks for a distance in meters. It should then output the distance in feet, yards, miles, nautical miles, royal cubits, pedes, AU, l.y., and parsecs. <br>\n",
    "b) Then run your code with a distance of 10,000 meters."
   ]
  },
  {
   "cell_type": "markdown",
   "metadata": {
    "slideshow": {
     "slide_type": "subslide"
    }
   },
   "source": [
    "### Solution.\n",
    "**(a, b)** Below is my script that converts a given distance in meters to various units. Since MATLAB Publish does not work well with `input` function, I will explicitly provide an input value. The interactive statement including `input` is commented out. "
   ]
  },
  {
   "cell_type": "code",
   "execution_count": null,
   "metadata": {
    "slideshow": {
     "slide_type": "subslide"
    }
   },
   "outputs": [],
   "source": [
    "% meter = input('Give a distance in meters: ');\n",
    "meter = 10000;\n",
    "\n",
    "% conversion factors\n",
    "m2ft = 3.28084;                     % feet\n",
    "m2yd = 1.09361;                     % yards\n",
    "m2mi = 0.000621371;                 % miles\n",
    "m2nm = 0.000539957;                 % nautical miles\n",
    "m2rc = 0.0002838985;                % royal cubit\n",
    "m2pd = 0.296;                       % pedes\n",
    "m2AU = 6.68459e-12;                 % astronomical units\n",
    "m2ly = 1.057e-16;                   % light years\n",
    "m2ps = 3.24078e-17;                 % parsecs"
   ]
  },
  {
   "cell_type": "markdown",
   "metadata": {
    "slideshow": {
     "slide_type": "subslide"
    }
   },
   "source": [
    "Then I convert the given distance."
   ]
  },
  {
   "cell_type": "code",
   "execution_count": null,
   "metadata": {
    "scrolled": false,
    "slideshow": {
     "slide_type": "-"
    }
   },
   "outputs": [],
   "source": [
    "% converted outputs\n",
    "feet = meter*m2ft\n",
    "yards = meter*m2yd\n",
    "miles = meter*m2mi\n",
    "naut_miles = meter*m2nm\n",
    "roy_cub = meter*m2rc\n",
    "pedes = meter*m2pd\n",
    "AU = meter*m2AU\n",
    "lgt_yrs = meter*m2ly\n",
    "parsecs = meter*m2ps"
   ]
  }
 ],
 "metadata": {
  "celltoolbar": "Slideshow",
  "kernelspec": {
   "display_name": "Matlab",
   "language": "matlab",
   "name": "matlab"
  },
  "language_info": {
   "codemirror_mode": "octave",
   "file_extension": ".m",
   "help_links": [
    {
     "text": "MetaKernel Magics",
     "url": "https://github.com/calysto/metakernel/blob/master/metakernel/magics/README.md"
    }
   ],
   "mimetype": "text/x-octave",
   "name": "matlab",
   "version": "0.16.1"
  }
 },
 "nbformat": 4,
 "nbformat_minor": 2
}
