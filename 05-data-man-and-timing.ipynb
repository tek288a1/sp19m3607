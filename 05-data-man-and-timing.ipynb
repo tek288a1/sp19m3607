{
 "cells": [
  {
   "cell_type": "markdown",
   "metadata": {
    "slideshow": {
     "slide_type": "slide"
    }
   },
   "source": [
    "# Data Manipulation and Timing in MATLAB"
   ]
  },
  {
   "cell_type": "code",
   "execution_count": null,
   "metadata": {
    "slideshow": {
     "slide_type": "-"
    }
   },
   "outputs": [],
   "source": [
    "clear, format short g, format compact"
   ]
  },
  {
   "cell_type": "markdown",
   "metadata": {
    "slideshow": {
     "slide_type": "slide"
    }
   },
   "source": [
    "<a id='data_manipulation'></a>\n",
    "## Data manipulation\n",
    "\n",
    "In this section, we demonstrate MATLAB functions suitable for data manipulation. "
   ]
  },
  {
   "cell_type": "markdown",
   "metadata": {
    "slideshow": {
     "slide_type": "slide"
    }
   },
   "source": [
    "### Vector data\n",
    "\n",
    "Let's begin by generating a set of data. "
   ]
  },
  {
   "cell_type": "code",
   "execution_count": null,
   "metadata": {},
   "outputs": [],
   "source": [
    "x = randi(20, 1, 8);"
   ]
  },
  {
   "cell_type": "markdown",
   "metadata": {
    "slideshow": {
     "slide_type": "subslide"
    }
   },
   "source": [
    "The following functions are quite straight forward."
   ]
  },
  {
   "cell_type": "code",
   "execution_count": null,
   "metadata": {},
   "outputs": [],
   "source": [
    "M = max(x)                  % maximum\n",
    "m = min(x)                  % minimum"
   ]
  },
  {
   "cell_type": "markdown",
   "metadata": {
    "slideshow": {
     "slide_type": "subslide"
    }
   },
   "source": [
    "Sums and products are handled by"
   ]
  },
  {
   "cell_type": "code",
   "execution_count": null,
   "metadata": {},
   "outputs": [],
   "source": [
    "s = sum(x)                  % the sum of the elements of x\n",
    "p = prod(x)                 % the product"
   ]
  },
  {
   "cell_type": "markdown",
   "metadata": {
    "slideshow": {
     "slide_type": "subslide"
    }
   },
   "source": [
    "We can also calculate \n",
    "cumulative sums and difference.\n",
    "\n",
    "For instance, if $\\mathbf{x} = [1, 2, 3]$, \n",
    "\n",
    "* the cumulative sum produces \n",
    "  $[1, 1+2, 1+2+3] = [1, 3, 6]$.\n",
    "* the cumulative product generates\n",
    "  $[1, 1 \\times 2, 1 \\times 2 \\times 3] = [1, 2, 6]$."
   ]
  },
  {
   "cell_type": "code",
   "execution_count": null,
   "metadata": {},
   "outputs": [],
   "source": [
    "cs = cumsum(x)              % the cumulative sum\n",
    "cp = cumprod(x)             % the cumulative product"
   ]
  },
  {
   "cell_type": "markdown",
   "metadata": {
    "slideshow": {
     "slide_type": "subslide"
    }
   },
   "source": [
    "Differences between two consecutive terms are calculated by:"
   ]
  },
  {
   "cell_type": "code",
   "execution_count": null,
   "metadata": {},
   "outputs": [],
   "source": [
    "dd = diff(x)                % the difference in successive elements"
   ]
  },
  {
   "cell_type": "markdown",
   "metadata": {
    "slideshow": {
     "slide_type": "subslide"
    }
   },
   "source": [
    "The function `diff` can take an optional second input. Try:"
   ]
  },
  {
   "cell_type": "code",
   "execution_count": null,
   "metadata": {},
   "outputs": [],
   "source": [
    "diff(x)\n",
    "diff(x, 1)\n",
    "diff(x, 2)"
   ]
  },
  {
   "cell_type": "markdown",
   "metadata": {
    "slideshow": {
     "slide_type": "slide"
    }
   },
   "source": [
    "**Simple statistics**\n",
    "\n",
    "MATLAB is equipped with simple statistical functions. "
   ]
  },
  {
   "cell_type": "code",
   "execution_count": null,
   "metadata": {},
   "outputs": [],
   "source": [
    "avg = mean(x)               % the mean (average) value\n",
    "sd = std(x, 1)              % the standard deviation; cf. std(x, 0)\n",
    "v = var(x, 1)               % the variance; cf. var(x, 0)\n",
    "x_asc = sort(x)             % sorted in ascending order\n",
    "x_des = sort(x, 'descend')  % sorted in descending order"
   ]
  },
  {
   "cell_type": "markdown",
   "metadata": {
    "slideshow": {
     "slide_type": "subslide"
    }
   },
   "source": [
    "We can find the indices corresponding to the maximal/minimal value or their sorted orders."
   ]
  },
  {
   "cell_type": "code",
   "execution_count": null,
   "metadata": {},
   "outputs": [],
   "source": [
    "[M, index] = max(x)\n",
    "[x_asc, index] = sort(x)"
   ]
  },
  {
   "cell_type": "code",
   "execution_count": null,
   "metadata": {},
   "outputs": [],
   "source": []
  },
  {
   "cell_type": "markdown",
   "metadata": {
    "slideshow": {
     "slide_type": "slide"
    }
   },
   "source": [
    "### Table(Matrix) Data\n",
    "\n",
    "When data are arranged in a table form, \n",
    "`max` and `min` functions behave as below."
   ]
  },
  {
   "cell_type": "code",
   "execution_count": null,
   "metadata": {},
   "outputs": [],
   "source": [
    "X = randi(20, 3, 6);"
   ]
  },
  {
   "cell_type": "code",
   "execution_count": null,
   "metadata": {},
   "outputs": [],
   "source": [
    "M_col = max(X)              % maximum of each column\n",
    "M_row = max(X')'            % maximum of each row\n",
    "M_tot = max(max(X))         % maximum of all elements; max(X(:))"
   ]
  },
  {
   "cell_type": "markdown",
   "metadata": {
    "slideshow": {
     "slide_type": "subslide"
    }
   },
   "source": [
    "**Advanced Note.** \n",
    "\n",
    "Alternately, one can use the following syntax.\n",
    "(The sames goes for `min`.)"
   ]
  },
  {
   "cell_type": "code",
   "execution_count": null,
   "metadata": {},
   "outputs": [],
   "source": [
    "M_col = max(X, [], 1)\n",
    "M_row = max(X, [], 2)\n",
    "M_tot = max(X, [], 'all')"
   ]
  },
  {
   "cell_type": "markdown",
   "metadata": {
    "slideshow": {
     "slide_type": "subslide"
    }
   },
   "source": [
    "To learn more:"
   ]
  },
  {
   "cell_type": "code",
   "execution_count": null,
   "metadata": {
    "scrolled": true
   },
   "outputs": [],
   "source": [
    "help max"
   ]
  },
  {
   "cell_type": "markdown",
   "metadata": {
    "slideshow": {
     "slide_type": "subslide"
    }
   },
   "source": [
    "For column/row-wise summation, we have"
   ]
  },
  {
   "cell_type": "code",
   "execution_count": null,
   "metadata": {},
   "outputs": [],
   "source": [
    "s_col = sum(X, 1)           % the column-wise summation; sum(X)\n",
    "s_row = sum(X, 2)           % the row-wise summation; sum(X')'"
   ]
  },
  {
   "cell_type": "markdown",
   "metadata": {},
   "source": [
    "To calculate the sum of all elements, \n",
    "use `sum(sum(X))` or `sum(X(:))`.\n",
    "\n",
    "\n",
    "The `diff` function works similarly. \n",
    "To learn more, use `help diff`."
   ]
  },
  {
   "cell_type": "markdown",
   "metadata": {
    "slideshow": {
     "slide_type": "slide"
    }
   },
   "source": [
    "## Timing MATLAB Code\n",
    "\n",
    "\n",
    "There are two ways of timing MATLAB codes:\n",
    "\n",
    " * `tic/toc`: works like a stopwatch\n",
    " * `cputime`: works like a clock\n",
    " \n",
    "**Warning.** When timing a code, run it twice."
   ]
  },
  {
   "cell_type": "markdown",
   "metadata": {
    "slideshow": {
     "slide_type": "subslide"
    }
   },
   "source": [
    "### `cputime`\n",
    "\n",
    "It measures the amount of time (in seconds)\n",
    "for which CPU was used for processing instructions\n",
    "of a MATLAB program. \n",
    "\n",
    "It reads total cputime used by MATLAB from \n",
    "the time it was started.\n",
    "\n",
    "```octave\n",
    "ct = cputime();   % total cputime as of now\n",
    "[statement]\n",
    "t = cputime() - ct;\n",
    "```\n"
   ]
  },
  {
   "cell_type": "markdown",
   "metadata": {
    "slideshow": {
     "slide_type": "subslide"
    }
   },
   "source": [
    "### `tic` and `toc`\n",
    "\n",
    "This pair of commands \n",
    "records the internal time (in seconds)\n",
    "at execution of the `tic` command and\n",
    "displays the elapsed time with `toc`.\n",
    "\n",
    "```octave\n",
    "tic   % starts a stopwatch timer\n",
    "[statements]\n",
    "toc   % reads the elapsed time from tic\n",
    "```"
   ]
  },
  {
   "cell_type": "markdown",
   "metadata": {
    "slideshow": {
     "slide_type": "subslide"
    }
   },
   "source": [
    "Alternately:\n",
    "\n",
    "```octave\n",
    "tic();\n",
    "[statements]\n",
    "time = toc();\n",
    "```"
   ]
  },
  {
   "cell_type": "code",
   "execution_count": null,
   "metadata": {},
   "outputs": [],
   "source": [
    "t = cputime(); time1 = cputime() - t;\n",
    "tic(); time2 = toc(); \n",
    "disp([time1 time2])"
   ]
  },
  {
   "cell_type": "markdown",
   "metadata": {
    "slideshow": {
     "slide_type": "subslide"
    }
   },
   "source": [
    "**Example.**\n",
    "\n",
    "Generate a $10^7 \\times 1$ random vector\n",
    "and measure the internal time and CPU time\n",
    "when computing elementwise squares. "
   ]
  },
  {
   "cell_type": "code",
   "execution_count": null,
   "metadata": {
    "slideshow": {
     "slide_type": "notes"
    }
   },
   "outputs": [],
   "source": [
    "%%file time_square.m\n",
    "\n",
    "n = 1e7;\n",
    "x = rand(n, 1);\n",
    "t = cputime();\n",
    "x1 = x.^2;\n",
    "time1 = cputime - t;\n",
    "x1 = [];\n",
    "tic()\n",
    "x2 = x.^2;\n",
    "time2 = toc();\n",
    "disp([time1, time2])"
   ]
  },
  {
   "cell_type": "code",
   "execution_count": null,
   "metadata": {
    "slideshow": {
     "slide_type": "subslide"
    }
   },
   "outputs": [],
   "source": [
    "format short \n",
    "for i = 1:10\n",
    "    time_square\n",
    "end"
   ]
  }
 ],
 "metadata": {
  "celltoolbar": "Slideshow",
  "kernelspec": {
   "display_name": "Matlab",
   "language": "matlab",
   "name": "matlab"
  },
  "language_info": {
   "codemirror_mode": "octave",
   "file_extension": ".m",
   "help_links": [
    {
     "text": "MetaKernel Magics",
     "url": "https://github.com/calysto/metakernel/blob/master/metakernel/magics/README.md"
    }
   ],
   "mimetype": "text/x-octave",
   "name": "matlab",
   "version": "0.16.1"
  }
 },
 "nbformat": 4,
 "nbformat_minor": 2
}
